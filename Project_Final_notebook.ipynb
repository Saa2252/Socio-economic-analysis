{
  "cells": [
    {
      "cell_type": "code",
      "execution_count": null,
      "metadata": {
        "id": "HQO4SjRF0J4X"
      },
      "outputs": [],
      "source": []
    },
    {
      "cell_type": "code",
      "execution_count": null,
      "metadata": {
        "id": "2Da69hsn1NBS"
      },
      "outputs": [],
      "source": [
        "import numpy as np # linear algebra\n",
        "import pandas as pd # data processing, CSV file I/O (e.g. pd.read_csv)\n",
        "import seaborn as sns #plotting data\n",
        "import matplotlib.pyplot as plt\n",
        "\n",
        "import warnings\n",
        "warnings.filterwarnings('ignore')\n"
      ]
    },
    {
      "cell_type": "code",
      "execution_count": null,
      "metadata": {
        "id": "27SQn0el1iKg"
      },
      "outputs": [],
      "source": [
        "#dataset = pd.read_csv('./data/dataset 3.csv')\n",
        "#dataset[dataset['Target']!='Enrolled'].to_csv('./dataset.csv', index = False)"
      ]
    },
    {
      "cell_type": "code",
      "execution_count": null,
      "metadata": {
        "id": "uFLyPs990J4Y"
      },
      "outputs": [],
      "source": [
        "dataset = pd.read_csv('./dataset.csv')"
      ]
    },
    {
      "cell_type": "code",
      "execution_count": null,
      "metadata": {
        "id": "je7kz8Pc0J4Z",
        "outputId": "8ab5b28f-d64a-4d7c-a731-023bdd01ee5f"
      },
      "outputs": [
        {
          "data": {
            "text/html": [
              "<div>\n",
              "<style scoped>\n",
              "    .dataframe tbody tr th:only-of-type {\n",
              "        vertical-align: middle;\n",
              "    }\n",
              "\n",
              "    .dataframe tbody tr th {\n",
              "        vertical-align: top;\n",
              "    }\n",
              "\n",
              "    .dataframe thead th {\n",
              "        text-align: right;\n",
              "    }\n",
              "</style>\n",
              "<table border=\"1\" class=\"dataframe\">\n",
              "  <thead>\n",
              "    <tr style=\"text-align: right;\">\n",
              "      <th></th>\n",
              "      <th>0</th>\n",
              "      <th>1</th>\n",
              "      <th>2</th>\n",
              "      <th>3</th>\n",
              "      <th>4</th>\n",
              "      <th>5</th>\n",
              "      <th>6</th>\n",
              "      <th>7</th>\n",
              "      <th>8</th>\n",
              "      <th>9</th>\n",
              "    </tr>\n",
              "  </thead>\n",
              "  <tbody>\n",
              "    <tr>\n",
              "      <th>Marital status</th>\n",
              "      <td>1</td>\n",
              "      <td>1</td>\n",
              "      <td>1</td>\n",
              "      <td>1</td>\n",
              "      <td>2</td>\n",
              "      <td>2</td>\n",
              "      <td>1</td>\n",
              "      <td>1</td>\n",
              "      <td>1</td>\n",
              "      <td>1</td>\n",
              "    </tr>\n",
              "    <tr>\n",
              "      <th>Application mode</th>\n",
              "      <td>8</td>\n",
              "      <td>6</td>\n",
              "      <td>1</td>\n",
              "      <td>8</td>\n",
              "      <td>12</td>\n",
              "      <td>12</td>\n",
              "      <td>1</td>\n",
              "      <td>9</td>\n",
              "      <td>1</td>\n",
              "      <td>1</td>\n",
              "    </tr>\n",
              "    <tr>\n",
              "      <th>Application order</th>\n",
              "      <td>5</td>\n",
              "      <td>1</td>\n",
              "      <td>5</td>\n",
              "      <td>2</td>\n",
              "      <td>1</td>\n",
              "      <td>1</td>\n",
              "      <td>1</td>\n",
              "      <td>4</td>\n",
              "      <td>3</td>\n",
              "      <td>1</td>\n",
              "    </tr>\n",
              "    <tr>\n",
              "      <th>Course</th>\n",
              "      <td>2</td>\n",
              "      <td>11</td>\n",
              "      <td>5</td>\n",
              "      <td>15</td>\n",
              "      <td>3</td>\n",
              "      <td>17</td>\n",
              "      <td>12</td>\n",
              "      <td>11</td>\n",
              "      <td>10</td>\n",
              "      <td>10</td>\n",
              "    </tr>\n",
              "    <tr>\n",
              "      <th>Daytime/evening attendance</th>\n",
              "      <td>1</td>\n",
              "      <td>1</td>\n",
              "      <td>1</td>\n",
              "      <td>1</td>\n",
              "      <td>0</td>\n",
              "      <td>0</td>\n",
              "      <td>1</td>\n",
              "      <td>1</td>\n",
              "      <td>1</td>\n",
              "      <td>1</td>\n",
              "    </tr>\n",
              "    <tr>\n",
              "      <th>Previous qualification</th>\n",
              "      <td>1</td>\n",
              "      <td>1</td>\n",
              "      <td>1</td>\n",
              "      <td>1</td>\n",
              "      <td>1</td>\n",
              "      <td>12</td>\n",
              "      <td>1</td>\n",
              "      <td>1</td>\n",
              "      <td>1</td>\n",
              "      <td>1</td>\n",
              "    </tr>\n",
              "    <tr>\n",
              "      <th>Nacionality</th>\n",
              "      <td>1</td>\n",
              "      <td>1</td>\n",
              "      <td>1</td>\n",
              "      <td>1</td>\n",
              "      <td>1</td>\n",
              "      <td>1</td>\n",
              "      <td>1</td>\n",
              "      <td>1</td>\n",
              "      <td>15</td>\n",
              "      <td>1</td>\n",
              "    </tr>\n",
              "    <tr>\n",
              "      <th>Mother's qualification</th>\n",
              "      <td>13</td>\n",
              "      <td>1</td>\n",
              "      <td>22</td>\n",
              "      <td>23</td>\n",
              "      <td>22</td>\n",
              "      <td>22</td>\n",
              "      <td>13</td>\n",
              "      <td>22</td>\n",
              "      <td>1</td>\n",
              "      <td>1</td>\n",
              "    </tr>\n",
              "    <tr>\n",
              "      <th>Father's qualification</th>\n",
              "      <td>10</td>\n",
              "      <td>3</td>\n",
              "      <td>27</td>\n",
              "      <td>27</td>\n",
              "      <td>28</td>\n",
              "      <td>27</td>\n",
              "      <td>28</td>\n",
              "      <td>27</td>\n",
              "      <td>1</td>\n",
              "      <td>14</td>\n",
              "    </tr>\n",
              "    <tr>\n",
              "      <th>Mother's occupation</th>\n",
              "      <td>6</td>\n",
              "      <td>4</td>\n",
              "      <td>10</td>\n",
              "      <td>6</td>\n",
              "      <td>10</td>\n",
              "      <td>10</td>\n",
              "      <td>8</td>\n",
              "      <td>10</td>\n",
              "      <td>10</td>\n",
              "      <td>5</td>\n",
              "    </tr>\n",
              "    <tr>\n",
              "      <th>Father's occupation</th>\n",
              "      <td>10</td>\n",
              "      <td>4</td>\n",
              "      <td>10</td>\n",
              "      <td>4</td>\n",
              "      <td>10</td>\n",
              "      <td>8</td>\n",
              "      <td>11</td>\n",
              "      <td>10</td>\n",
              "      <td>10</td>\n",
              "      <td>8</td>\n",
              "    </tr>\n",
              "    <tr>\n",
              "      <th>Displaced</th>\n",
              "      <td>1</td>\n",
              "      <td>1</td>\n",
              "      <td>1</td>\n",
              "      <td>1</td>\n",
              "      <td>0</td>\n",
              "      <td>0</td>\n",
              "      <td>1</td>\n",
              "      <td>1</td>\n",
              "      <td>0</td>\n",
              "      <td>1</td>\n",
              "    </tr>\n",
              "    <tr>\n",
              "      <th>Educational special needs</th>\n",
              "      <td>0</td>\n",
              "      <td>0</td>\n",
              "      <td>0</td>\n",
              "      <td>0</td>\n",
              "      <td>0</td>\n",
              "      <td>0</td>\n",
              "      <td>0</td>\n",
              "      <td>0</td>\n",
              "      <td>0</td>\n",
              "      <td>0</td>\n",
              "    </tr>\n",
              "    <tr>\n",
              "      <th>Debtor</th>\n",
              "      <td>0</td>\n",
              "      <td>0</td>\n",
              "      <td>0</td>\n",
              "      <td>0</td>\n",
              "      <td>0</td>\n",
              "      <td>1</td>\n",
              "      <td>0</td>\n",
              "      <td>0</td>\n",
              "      <td>0</td>\n",
              "      <td>1</td>\n",
              "    </tr>\n",
              "    <tr>\n",
              "      <th>Tuition fees up to date</th>\n",
              "      <td>1</td>\n",
              "      <td>0</td>\n",
              "      <td>0</td>\n",
              "      <td>1</td>\n",
              "      <td>1</td>\n",
              "      <td>1</td>\n",
              "      <td>1</td>\n",
              "      <td>0</td>\n",
              "      <td>1</td>\n",
              "      <td>0</td>\n",
              "    </tr>\n",
              "    <tr>\n",
              "      <th>Gender</th>\n",
              "      <td>1</td>\n",
              "      <td>1</td>\n",
              "      <td>1</td>\n",
              "      <td>0</td>\n",
              "      <td>0</td>\n",
              "      <td>1</td>\n",
              "      <td>0</td>\n",
              "      <td>1</td>\n",
              "      <td>0</td>\n",
              "      <td>0</td>\n",
              "    </tr>\n",
              "    <tr>\n",
              "      <th>Scholarship holder</th>\n",
              "      <td>0</td>\n",
              "      <td>0</td>\n",
              "      <td>0</td>\n",
              "      <td>0</td>\n",
              "      <td>0</td>\n",
              "      <td>0</td>\n",
              "      <td>1</td>\n",
              "      <td>0</td>\n",
              "      <td>1</td>\n",
              "      <td>0</td>\n",
              "    </tr>\n",
              "    <tr>\n",
              "      <th>Age at enrollment</th>\n",
              "      <td>20</td>\n",
              "      <td>19</td>\n",
              "      <td>19</td>\n",
              "      <td>20</td>\n",
              "      <td>45</td>\n",
              "      <td>50</td>\n",
              "      <td>18</td>\n",
              "      <td>22</td>\n",
              "      <td>21</td>\n",
              "      <td>18</td>\n",
              "    </tr>\n",
              "    <tr>\n",
              "      <th>International</th>\n",
              "      <td>0</td>\n",
              "      <td>0</td>\n",
              "      <td>0</td>\n",
              "      <td>0</td>\n",
              "      <td>0</td>\n",
              "      <td>0</td>\n",
              "      <td>0</td>\n",
              "      <td>0</td>\n",
              "      <td>1</td>\n",
              "      <td>0</td>\n",
              "    </tr>\n",
              "    <tr>\n",
              "      <th>Curricular units 1st sem (credited)</th>\n",
              "      <td>0</td>\n",
              "      <td>0</td>\n",
              "      <td>0</td>\n",
              "      <td>0</td>\n",
              "      <td>0</td>\n",
              "      <td>0</td>\n",
              "      <td>0</td>\n",
              "      <td>0</td>\n",
              "      <td>0</td>\n",
              "      <td>0</td>\n",
              "    </tr>\n",
              "    <tr>\n",
              "      <th>Curricular units 1st sem (enrolled)</th>\n",
              "      <td>0</td>\n",
              "      <td>6</td>\n",
              "      <td>6</td>\n",
              "      <td>6</td>\n",
              "      <td>6</td>\n",
              "      <td>5</td>\n",
              "      <td>7</td>\n",
              "      <td>5</td>\n",
              "      <td>6</td>\n",
              "      <td>6</td>\n",
              "    </tr>\n",
              "    <tr>\n",
              "      <th>Curricular units 1st sem (evaluations)</th>\n",
              "      <td>0</td>\n",
              "      <td>6</td>\n",
              "      <td>0</td>\n",
              "      <td>8</td>\n",
              "      <td>9</td>\n",
              "      <td>10</td>\n",
              "      <td>9</td>\n",
              "      <td>5</td>\n",
              "      <td>8</td>\n",
              "      <td>9</td>\n",
              "    </tr>\n",
              "    <tr>\n",
              "      <th>Curricular units 1st sem (approved)</th>\n",
              "      <td>0</td>\n",
              "      <td>6</td>\n",
              "      <td>0</td>\n",
              "      <td>6</td>\n",
              "      <td>5</td>\n",
              "      <td>5</td>\n",
              "      <td>7</td>\n",
              "      <td>0</td>\n",
              "      <td>6</td>\n",
              "      <td>5</td>\n",
              "    </tr>\n",
              "    <tr>\n",
              "      <th>Curricular units 1st sem (grade)</th>\n",
              "      <td>0.0</td>\n",
              "      <td>14.0</td>\n",
              "      <td>0.0</td>\n",
              "      <td>13.428571</td>\n",
              "      <td>12.333333</td>\n",
              "      <td>11.857143</td>\n",
              "      <td>13.3</td>\n",
              "      <td>0.0</td>\n",
              "      <td>13.875</td>\n",
              "      <td>11.4</td>\n",
              "    </tr>\n",
              "    <tr>\n",
              "      <th>Curricular units 1st sem (without evaluations)</th>\n",
              "      <td>0</td>\n",
              "      <td>0</td>\n",
              "      <td>0</td>\n",
              "      <td>0</td>\n",
              "      <td>0</td>\n",
              "      <td>0</td>\n",
              "      <td>0</td>\n",
              "      <td>0</td>\n",
              "      <td>0</td>\n",
              "      <td>0</td>\n",
              "    </tr>\n",
              "    <tr>\n",
              "      <th>Curricular units 2nd sem (credited)</th>\n",
              "      <td>0</td>\n",
              "      <td>0</td>\n",
              "      <td>0</td>\n",
              "      <td>0</td>\n",
              "      <td>0</td>\n",
              "      <td>0</td>\n",
              "      <td>0</td>\n",
              "      <td>0</td>\n",
              "      <td>0</td>\n",
              "      <td>0</td>\n",
              "    </tr>\n",
              "    <tr>\n",
              "      <th>Curricular units 2nd sem (enrolled)</th>\n",
              "      <td>0</td>\n",
              "      <td>6</td>\n",
              "      <td>6</td>\n",
              "      <td>6</td>\n",
              "      <td>6</td>\n",
              "      <td>5</td>\n",
              "      <td>8</td>\n",
              "      <td>5</td>\n",
              "      <td>6</td>\n",
              "      <td>6</td>\n",
              "    </tr>\n",
              "    <tr>\n",
              "      <th>Curricular units 2nd sem (evaluations)</th>\n",
              "      <td>0</td>\n",
              "      <td>6</td>\n",
              "      <td>0</td>\n",
              "      <td>10</td>\n",
              "      <td>6</td>\n",
              "      <td>17</td>\n",
              "      <td>8</td>\n",
              "      <td>5</td>\n",
              "      <td>7</td>\n",
              "      <td>14</td>\n",
              "    </tr>\n",
              "    <tr>\n",
              "      <th>Curricular units 2nd sem (approved)</th>\n",
              "      <td>0</td>\n",
              "      <td>6</td>\n",
              "      <td>0</td>\n",
              "      <td>5</td>\n",
              "      <td>6</td>\n",
              "      <td>5</td>\n",
              "      <td>8</td>\n",
              "      <td>0</td>\n",
              "      <td>6</td>\n",
              "      <td>2</td>\n",
              "    </tr>\n",
              "    <tr>\n",
              "      <th>Curricular units 2nd sem (grade)</th>\n",
              "      <td>0.0</td>\n",
              "      <td>13.666667</td>\n",
              "      <td>0.0</td>\n",
              "      <td>12.4</td>\n",
              "      <td>13.0</td>\n",
              "      <td>11.5</td>\n",
              "      <td>14.345</td>\n",
              "      <td>0.0</td>\n",
              "      <td>14.142857</td>\n",
              "      <td>13.5</td>\n",
              "    </tr>\n",
              "    <tr>\n",
              "      <th>Curricular units 2nd sem (without evaluations)</th>\n",
              "      <td>0</td>\n",
              "      <td>0</td>\n",
              "      <td>0</td>\n",
              "      <td>0</td>\n",
              "      <td>0</td>\n",
              "      <td>5</td>\n",
              "      <td>0</td>\n",
              "      <td>0</td>\n",
              "      <td>0</td>\n",
              "      <td>0</td>\n",
              "    </tr>\n",
              "    <tr>\n",
              "      <th>Unemployment rate</th>\n",
              "      <td>10.8</td>\n",
              "      <td>13.9</td>\n",
              "      <td>10.8</td>\n",
              "      <td>9.4</td>\n",
              "      <td>13.9</td>\n",
              "      <td>16.2</td>\n",
              "      <td>15.5</td>\n",
              "      <td>15.5</td>\n",
              "      <td>16.2</td>\n",
              "      <td>8.9</td>\n",
              "    </tr>\n",
              "    <tr>\n",
              "      <th>Inflation rate</th>\n",
              "      <td>1.4</td>\n",
              "      <td>-0.3</td>\n",
              "      <td>1.4</td>\n",
              "      <td>-0.8</td>\n",
              "      <td>-0.3</td>\n",
              "      <td>0.3</td>\n",
              "      <td>2.8</td>\n",
              "      <td>2.8</td>\n",
              "      <td>0.3</td>\n",
              "      <td>1.4</td>\n",
              "    </tr>\n",
              "    <tr>\n",
              "      <th>GDP</th>\n",
              "      <td>1.74</td>\n",
              "      <td>0.79</td>\n",
              "      <td>1.74</td>\n",
              "      <td>-3.12</td>\n",
              "      <td>0.79</td>\n",
              "      <td>-0.92</td>\n",
              "      <td>-4.06</td>\n",
              "      <td>-4.06</td>\n",
              "      <td>-0.92</td>\n",
              "      <td>3.51</td>\n",
              "    </tr>\n",
              "    <tr>\n",
              "      <th>Target</th>\n",
              "      <td>Dropout</td>\n",
              "      <td>Graduate</td>\n",
              "      <td>Dropout</td>\n",
              "      <td>Graduate</td>\n",
              "      <td>Graduate</td>\n",
              "      <td>Graduate</td>\n",
              "      <td>Graduate</td>\n",
              "      <td>Dropout</td>\n",
              "      <td>Graduate</td>\n",
              "      <td>Dropout</td>\n",
              "    </tr>\n",
              "  </tbody>\n",
              "</table>\n",
              "</div>"
            ],
            "text/plain": [
              "                                                      0          1        2  \\\n",
              "Marital status                                        1          1        1   \n",
              "Application mode                                      8          6        1   \n",
              "Application order                                     5          1        5   \n",
              "Course                                                2         11        5   \n",
              "Daytime/evening attendance                            1          1        1   \n",
              "Previous qualification                                1          1        1   \n",
              "Nacionality                                           1          1        1   \n",
              "Mother's qualification                               13          1       22   \n",
              "Father's qualification                               10          3       27   \n",
              "Mother's occupation                                   6          4       10   \n",
              "Father's occupation                                  10          4       10   \n",
              "Displaced                                             1          1        1   \n",
              "Educational special needs                             0          0        0   \n",
              "Debtor                                                0          0        0   \n",
              "Tuition fees up to date                               1          0        0   \n",
              "Gender                                                1          1        1   \n",
              "Scholarship holder                                    0          0        0   \n",
              "Age at enrollment                                    20         19       19   \n",
              "International                                         0          0        0   \n",
              "Curricular units 1st sem (credited)                   0          0        0   \n",
              "Curricular units 1st sem (enrolled)                   0          6        6   \n",
              "Curricular units 1st sem (evaluations)                0          6        0   \n",
              "Curricular units 1st sem (approved)                   0          6        0   \n",
              "Curricular units 1st sem (grade)                    0.0       14.0      0.0   \n",
              "Curricular units 1st sem (without evaluations)        0          0        0   \n",
              "Curricular units 2nd sem (credited)                   0          0        0   \n",
              "Curricular units 2nd sem (enrolled)                   0          6        6   \n",
              "Curricular units 2nd sem (evaluations)                0          6        0   \n",
              "Curricular units 2nd sem (approved)                   0          6        0   \n",
              "Curricular units 2nd sem (grade)                    0.0  13.666667      0.0   \n",
              "Curricular units 2nd sem (without evaluations)        0          0        0   \n",
              "Unemployment rate                                  10.8       13.9     10.8   \n",
              "Inflation rate                                      1.4       -0.3      1.4   \n",
              "GDP                                                1.74       0.79     1.74   \n",
              "Target                                          Dropout   Graduate  Dropout   \n",
              "\n",
              "                                                        3          4  \\\n",
              "Marital status                                          1          2   \n",
              "Application mode                                        8         12   \n",
              "Application order                                       2          1   \n",
              "Course                                                 15          3   \n",
              "Daytime/evening attendance                              1          0   \n",
              "Previous qualification                                  1          1   \n",
              "Nacionality                                             1          1   \n",
              "Mother's qualification                                 23         22   \n",
              "Father's qualification                                 27         28   \n",
              "Mother's occupation                                     6         10   \n",
              "Father's occupation                                     4         10   \n",
              "Displaced                                               1          0   \n",
              "Educational special needs                               0          0   \n",
              "Debtor                                                  0          0   \n",
              "Tuition fees up to date                                 1          1   \n",
              "Gender                                                  0          0   \n",
              "Scholarship holder                                      0          0   \n",
              "Age at enrollment                                      20         45   \n",
              "International                                           0          0   \n",
              "Curricular units 1st sem (credited)                     0          0   \n",
              "Curricular units 1st sem (enrolled)                     6          6   \n",
              "Curricular units 1st sem (evaluations)                  8          9   \n",
              "Curricular units 1st sem (approved)                     6          5   \n",
              "Curricular units 1st sem (grade)                13.428571  12.333333   \n",
              "Curricular units 1st sem (without evaluations)          0          0   \n",
              "Curricular units 2nd sem (credited)                     0          0   \n",
              "Curricular units 2nd sem (enrolled)                     6          6   \n",
              "Curricular units 2nd sem (evaluations)                 10          6   \n",
              "Curricular units 2nd sem (approved)                     5          6   \n",
              "Curricular units 2nd sem (grade)                     12.4       13.0   \n",
              "Curricular units 2nd sem (without evaluations)          0          0   \n",
              "Unemployment rate                                     9.4       13.9   \n",
              "Inflation rate                                       -0.8       -0.3   \n",
              "GDP                                                 -3.12       0.79   \n",
              "Target                                           Graduate   Graduate   \n",
              "\n",
              "                                                        5         6        7  \\\n",
              "Marital status                                          2         1        1   \n",
              "Application mode                                       12         1        9   \n",
              "Application order                                       1         1        4   \n",
              "Course                                                 17        12       11   \n",
              "Daytime/evening attendance                              0         1        1   \n",
              "Previous qualification                                 12         1        1   \n",
              "Nacionality                                             1         1        1   \n",
              "Mother's qualification                                 22        13       22   \n",
              "Father's qualification                                 27        28       27   \n",
              "Mother's occupation                                    10         8       10   \n",
              "Father's occupation                                     8        11       10   \n",
              "Displaced                                               0         1        1   \n",
              "Educational special needs                               0         0        0   \n",
              "Debtor                                                  1         0        0   \n",
              "Tuition fees up to date                                 1         1        0   \n",
              "Gender                                                  1         0        1   \n",
              "Scholarship holder                                      0         1        0   \n",
              "Age at enrollment                                      50        18       22   \n",
              "International                                           0         0        0   \n",
              "Curricular units 1st sem (credited)                     0         0        0   \n",
              "Curricular units 1st sem (enrolled)                     5         7        5   \n",
              "Curricular units 1st sem (evaluations)                 10         9        5   \n",
              "Curricular units 1st sem (approved)                     5         7        0   \n",
              "Curricular units 1st sem (grade)                11.857143      13.3      0.0   \n",
              "Curricular units 1st sem (without evaluations)          0         0        0   \n",
              "Curricular units 2nd sem (credited)                     0         0        0   \n",
              "Curricular units 2nd sem (enrolled)                     5         8        5   \n",
              "Curricular units 2nd sem (evaluations)                 17         8        5   \n",
              "Curricular units 2nd sem (approved)                     5         8        0   \n",
              "Curricular units 2nd sem (grade)                     11.5    14.345      0.0   \n",
              "Curricular units 2nd sem (without evaluations)          5         0        0   \n",
              "Unemployment rate                                    16.2      15.5     15.5   \n",
              "Inflation rate                                        0.3       2.8      2.8   \n",
              "GDP                                                 -0.92     -4.06    -4.06   \n",
              "Target                                           Graduate  Graduate  Dropout   \n",
              "\n",
              "                                                        8        9  \n",
              "Marital status                                          1        1  \n",
              "Application mode                                        1        1  \n",
              "Application order                                       3        1  \n",
              "Course                                                 10       10  \n",
              "Daytime/evening attendance                              1        1  \n",
              "Previous qualification                                  1        1  \n",
              "Nacionality                                            15        1  \n",
              "Mother's qualification                                  1        1  \n",
              "Father's qualification                                  1       14  \n",
              "Mother's occupation                                    10        5  \n",
              "Father's occupation                                    10        8  \n",
              "Displaced                                               0        1  \n",
              "Educational special needs                               0        0  \n",
              "Debtor                                                  0        1  \n",
              "Tuition fees up to date                                 1        0  \n",
              "Gender                                                  0        0  \n",
              "Scholarship holder                                      1        0  \n",
              "Age at enrollment                                      21       18  \n",
              "International                                           1        0  \n",
              "Curricular units 1st sem (credited)                     0        0  \n",
              "Curricular units 1st sem (enrolled)                     6        6  \n",
              "Curricular units 1st sem (evaluations)                  8        9  \n",
              "Curricular units 1st sem (approved)                     6        5  \n",
              "Curricular units 1st sem (grade)                   13.875     11.4  \n",
              "Curricular units 1st sem (without evaluations)          0        0  \n",
              "Curricular units 2nd sem (credited)                     0        0  \n",
              "Curricular units 2nd sem (enrolled)                     6        6  \n",
              "Curricular units 2nd sem (evaluations)                  7       14  \n",
              "Curricular units 2nd sem (approved)                     6        2  \n",
              "Curricular units 2nd sem (grade)                14.142857     13.5  \n",
              "Curricular units 2nd sem (without evaluations)          0        0  \n",
              "Unemployment rate                                    16.2      8.9  \n",
              "Inflation rate                                        0.3      1.4  \n",
              "GDP                                                 -0.92     3.51  \n",
              "Target                                           Graduate  Dropout  "
            ]
          },
          "execution_count": 13,
          "metadata": {},
          "output_type": "execute_result"
        }
      ],
      "source": [
        "dataset.head(10).T\n"
      ]
    },
    {
      "cell_type": "code",
      "execution_count": null,
      "metadata": {
        "id": "G5WG1XNJ0J4Z"
      },
      "outputs": [],
      "source": []
    },
    {
      "cell_type": "markdown",
      "metadata": {
        "id": "gHMSg0Ez0J4Z"
      },
      "source": [
        "### Creating a function to convert a categorical column into a One-hot-encoded column"
      ]
    },
    {
      "cell_type": "code",
      "execution_count": null,
      "metadata": {
        "id": "zsujU_2U0J4a"
      },
      "outputs": [],
      "source": [
        "\n",
        "def one_hot_encode(df, column_name):\n",
        "\n",
        "    # Perform one-hot encoding using pandas get_dummies() function\n",
        "    encoded_df = pd.get_dummies(df[column_name], prefix=column_name)\n",
        "\n",
        "    # Concatenate the one-hot encoded DataFrame with the original DataFrame\n",
        "    df = pd.concat([df, encoded_df], axis=1)\n",
        "\n",
        "    # Drop the original column\n",
        "    df.drop(column_name, axis=1, inplace=True)\n",
        "\n",
        "    return df"
      ]
    },
    {
      "cell_type": "code",
      "execution_count": null,
      "metadata": {
        "id": "nOGrIez_0J4b"
      },
      "outputs": [],
      "source": []
    },
    {
      "cell_type": "markdown",
      "metadata": {
        "id": "X-mEJhNp0J4b"
      },
      "source": [
        "### Exploring the features to keep for modelling\n",
        "- since we have 4424 rows in the dataset, we will be evaluating individual columns of the dataset and decide which columns are relevant\n",
        "- we will also have to combine a few social-economic indicators to derive new features"
      ]
    },
    {
      "cell_type": "markdown",
      "metadata": {
        "id": "0Av43TH_0J4b"
      },
      "source": [
        "#### Description of the Marital status column\n",
        "- 1 - single\n",
        "- 2 - married\n",
        "- 3 - widower\n",
        "- 4 - divorced\n",
        "- 5 - facto union\n",
        "- 6 - legally separated\n",
        "\n",
        "For the purpose of simplification of the columns, I am splitting encoding this column into 3 categories:\n",
        "- Single\n",
        "- Married\n",
        "- Others\n"
      ]
    },
    {
      "cell_type": "code",
      "execution_count": null,
      "metadata": {
        "id": "2BwKQs-I0J4b",
        "outputId": "d270eedf-6d59-468b-b251-047ed13b7db4"
      },
      "outputs": [
        {
          "data": {
            "text/plain": [
              "single     3199\n",
              "married     327\n",
              "others      104\n",
              "Name: marital_status, dtype: int64"
            ]
          },
          "execution_count": 15,
          "metadata": {},
          "output_type": "execute_result"
        }
      ],
      "source": [
        "def marital_status(x):\n",
        "    if x == 1:\n",
        "        return 'single'\n",
        "    elif x == 2:\n",
        "        return 'married'\n",
        "    else:\n",
        "        return 'others'\n",
        "\n",
        "dataset['Marital status'] = dataset['Marital status'].apply(marital_status)\n",
        "\n",
        "dataset = dataset.rename(columns={'Marital status': 'marital_status'})\n",
        "\n",
        "dataset['marital_status'].value_counts()"
      ]
    },
    {
      "cell_type": "code",
      "execution_count": null,
      "metadata": {
        "id": "W7RvRqg20J4b"
      },
      "outputs": [],
      "source": []
    },
    {
      "cell_type": "markdown",
      "metadata": {
        "id": "vZx8buy60J4c"
      },
      "source": [
        "### Application column\n",
        "\n",
        " - Application order (between 0 - first choice and 9 last choice)\n",
        " - We are categorizing the column values into three classes:\n",
        "    - Priority 1 : Choices 0-3\n",
        "    - Priority 2 : Choices 4-6\n",
        "    - Priority 3 : Choices 7-9\n"
      ]
    },
    {
      "cell_type": "code",
      "execution_count": null,
      "metadata": {
        "id": "Gws2aDTC0J4c",
        "outputId": "ef201507-1608-4d83-e5a3-ce27d93f5cc0"
      },
      "outputs": [
        {
          "data": {
            "text/plain": [
              "Priority 1    3162\n",
              "Priority 2     468\n",
              "Name: application_order, dtype: int64"
            ]
          },
          "execution_count": 16,
          "metadata": {},
          "output_type": "execute_result"
        }
      ],
      "source": [
        "def application_order(val):\n",
        "    if val in [0,1,2,3]:\n",
        "        return 'Priority 1'\n",
        "    elif val in [4,5,6]:\n",
        "        return 'Priority 2'\n",
        "    elif val in [7,8,9]:\n",
        "        return 'Priority 3'\n",
        "\n",
        "dataset['Application order'] = dataset['Application order'].apply(application_order)\n",
        "\n",
        "dataset = dataset.rename(columns = {\"Application order\": \"application_order\"})\n",
        "\n",
        "dataset['application_order'].value_counts()\n"
      ]
    },
    {
      "cell_type": "code",
      "execution_count": null,
      "metadata": {
        "id": "nRlIe2w10J4c"
      },
      "outputs": [],
      "source": []
    },
    {
      "cell_type": "markdown",
      "metadata": {
        "id": "YekR3MDb0J4c"
      },
      "source": [
        "### Creating features from the parent qualifications\n",
        "\n",
        "The dataset has a lot of information about the qualifications and occupations of both the parents\n",
        "- We will build features to combine the categories into bigger categories for both father and mother\n",
        "\n",
        "### Encoding qualifications\n",
        "\n",
        "#### Original Columns\n",
        "- 1 - Secondary Education - 12th Year of Schooling or Eq.\n",
        "- 2 - Higher Education - Bachelor's Degree\n",
        "- 3 - Higher Education - Degree\n",
        "- 4 - Higher Education - Master's\n",
        "- 5 - Higher Education - Doctorate\n",
        "- 6 - Frequency of Higher Education\n",
        "- 9 - 12th Year of Schooling - Not Completed\n",
        "- 10 - 11th Year of Schooling - Not Completed\n",
        "- 11 - 7th Year (Old)\n",
        "- 12 - Other - 11th Year of Schooling\n",
        "- 13 - 2nd year complementary high school course\n",
        "- 14 - 10th Year of Schooling\n",
        "- 18 - General commerce course\n",
        "- 19 - Basic Education 3rd Cycle (9th/10th/11th Year) or Equiv.\n",
        "- 20 - Complementary High School Course\n",
        "- 22 - Technical-professional course\n",
        "- 25 - Complementary High School Course - not concluded\n",
        "- 26 - 7th year of schooling\n",
        "- 27 - 2nd cycle of the general high school course\n",
        "- 29 - 9th Year of Schooling - Not Completed\n",
        "- 30 - 8th year of schooling\n",
        "- 31 - General Course of Administration and Commerce\n",
        "- 33 - Supplementary Accounting and Administration\n",
        "- 34 - Unknown\n",
        "- 35 - Can't read or write\n",
        "- 36 - Can read without having a 4th year of schooling\n",
        "- 37 - Basic education 1st cycle (4th/5th year) or equiv.\n",
        "- 38 - Basic Education 2nd Cycle (6th/7th/8th Year) or Equiv.\n",
        "- 39 - Technological specialization course\n",
        "- 40 - Higher education - degree (1st cycle)\n",
        "- 41 - Specialized higher studies course\n",
        "- 42 - Professional higher technical course\n",
        "- 43 - Higher Education - Master (2nd cycle)\n",
        "- 44 - Higher Education - Doctorate (3rd cycle)\n",
        "\n",
        "#### New Coded Features\n",
        "- Can't read (35, 36)\n",
        "- Schooling Complete if category (1)\n",
        "- Schooling incomplete if categories (9, 10, 13, 11, 14, 19, 25, 26, 29, 30, 37, 38)\n",
        "- Technical education if categories (22, 23, 39, 42)\n",
        "- Bachelors Course, 1 if categories (2, 40, 41)\n",
        "- Masters/Phd. Complete, 1 if categories (43, 44, 3, 4, 5)\n",
        "- Others (34), Any other unselected category\n",
        "\n",
        "\n",
        "\n"
      ]
    },
    {
      "cell_type": "markdown",
      "metadata": {
        "id": "jMqjbjcy0J4d"
      },
      "source": [
        "#### Cleaning the Previous Qualification Columns"
      ]
    },
    {
      "cell_type": "code",
      "execution_count": null,
      "metadata": {
        "id": "BOa5AvY-0J4d",
        "outputId": "1d39b1ba-80a1-4918-da2d-fe29da12b57f"
      },
      "outputs": [
        {
          "data": {
            "text/plain": [
              "Schooling Complete      3019\n",
              "Schooling Incomplete     387\n",
              "Higher Studies           167\n",
              "Others                    57\n",
              "Name: previous_qualifications, dtype: int64"
            ]
          },
          "execution_count": 17,
          "metadata": {},
          "output_type": "execute_result"
        }
      ],
      "source": [
        "dataset = dataset.rename(columns = {\"Previous qualification\": \"previous_qualifications\"})\n",
        "\n",
        "def previous_qualification(vals):\n",
        "\n",
        "    if vals in [9, 10, 12 , 14, 15, 19, 38]:\n",
        "        return 'Schooling Incomplete'\n",
        "    elif vals in [1]:\n",
        "        return 'Schooling Complete'\n",
        "    elif vals in [39, 40, 42]:\n",
        "        return 'Technical Education'\n",
        "    elif vals in [2, 3, 4, 5, 6, 43]:\n",
        "        return 'Higher Studies'\n",
        "    else:\n",
        "        return 'Others'\n",
        "\n",
        "dataset['previous_qualifications'] = dataset['previous_qualifications'].apply(previous_qualification)\\\n",
        "\n",
        "dataset['previous_qualifications'].value_counts()"
      ]
    },
    {
      "cell_type": "code",
      "execution_count": null,
      "metadata": {
        "id": "4cojQwo00J4d"
      },
      "outputs": [],
      "source": []
    },
    {
      "cell_type": "code",
      "execution_count": null,
      "metadata": {
        "id": "N-v6Uet70J4d"
      },
      "outputs": [],
      "source": [
        "def encode_edu_category(vals):\n",
        "    if vals in [35, 36]:\n",
        "        return 'Cannot Read/Write'\n",
        "    elif vals in [11, 25, 26, 29, 30, 37, 38]:\n",
        "        return 'HS dropout or Below'\n",
        "    elif vals in [9, 10, 13, 14, 19, 27, 28]:\n",
        "        return 'HS Completed'\n",
        "    elif vals in [1]:\n",
        "        return 'Schooling Complete'\n",
        "    elif vals in [22, 23, 39, 42]:\n",
        "        return 'Technical Education Degree'\n",
        "    elif (vals in [43, 44, 3, 4, 5]) or (vals in [2, 40, 41]):\n",
        "        return 'Higher Education'\n",
        "    else:\n",
        "        return 'Others'\n",
        "\n",
        "dataset[\"Mother's qualification\"] = dataset[\"Mother's qualification\"].apply(encode_edu_category)\n",
        "\n",
        "dataset[\"Father's qualification\"] = dataset[\"Father's qualification\"].apply(encode_edu_category)"
      ]
    },
    {
      "cell_type": "code",
      "execution_count": null,
      "metadata": {
        "id": "wSzxy34l0J4e"
      },
      "outputs": [],
      "source": []
    },
    {
      "cell_type": "markdown",
      "metadata": {
        "id": "e3g5Fjk00J4e"
      },
      "source": [
        "### Renaming the columns\n",
        "#### Features for Occupation\n"
      ]
    },
    {
      "cell_type": "markdown",
      "metadata": {
        "id": "KCxmFu-O0J4e"
      },
      "source": [
        "#### Occupation based feature Categorization\n",
        "\n"
      ]
    },
    {
      "cell_type": "code",
      "execution_count": null,
      "metadata": {
        "id": "EmuNJS8w0J4e"
      },
      "outputs": [],
      "source": [
        "def occupation_based(vals):\n",
        "\n",
        "    if vals in [1, 2, 122, 10, 123]:\n",
        "        return 'category 1'\n",
        "    elif vals in [3, 8, 131, 132, 134, 141, 143, 4]:\n",
        "        return 'category 2'\n",
        "    elif vals in [5, 6, 7, 144, 151, 152, 153, 171, 173, 175]:\n",
        "        return 'category 3'\n",
        "    elif vals in [191, 192, 193, 194, 9, 0, 90, 99]:\n",
        "        return 'category 4'\n",
        "    else:\n",
        "        return 'Others'\n",
        "\n",
        "dataset[\"Father's occupation\"] = dataset[\"Father's occupation\"].apply(occupation_based)\n",
        "\n",
        "dataset[\"Mother's occupation\"] = dataset[\"Mother's occupation\"].apply(occupation_based)\n",
        "\n"
      ]
    },
    {
      "cell_type": "code",
      "execution_count": null,
      "metadata": {
        "id": "nsUsXnQc0J4e"
      },
      "outputs": [],
      "source": []
    },
    {
      "cell_type": "code",
      "execution_count": null,
      "metadata": {
        "id": "_DHLfkb-0J4e"
      },
      "outputs": [],
      "source": [
        "parent_occupation_education_columns = {\"Mother's qualification\":\"M_qual\",\n",
        "                                       \"Father's qualification\":\"F_qual\",\n",
        "                                       \"Mother's occupation\":\"M_occu\",\n",
        "                                       \"Father's occupation\": \"F_occu\"}\n",
        "\n",
        "dataset.rename(columns=parent_occupation_education_columns, inplace = True)\n"
      ]
    },
    {
      "cell_type": "code",
      "execution_count": null,
      "metadata": {
        "id": "kzNzN5CO0J4e",
        "outputId": "a253f528-bef4-460a-9c8a-2a47215f85a9"
      },
      "outputs": [
        {
          "data": {
            "text/plain": [
              "Technical Education Degree    1311\n",
              "HS Completed                   954\n",
              "Schooling Complete             865\n",
              "Higher Education               447\n",
              "Others                          36\n",
              "HS dropout or Below             17\n",
              "Name: M_qual, dtype: int64"
            ]
          },
          "execution_count": 21,
          "metadata": {},
          "output_type": "execute_result"
        }
      ],
      "source": [
        "dataset['M_qual'].value_counts()"
      ]
    },
    {
      "cell_type": "code",
      "execution_count": null,
      "metadata": {
        "id": "yPhAdvo80J4e",
        "outputId": "248c0d99-afd7-4348-8a60-87fa76499bc1"
      },
      "outputs": [
        {
          "data": {
            "text/plain": [
              "HS Completed                  2416\n",
              "Schooling Complete             732\n",
              "Higher Education               310\n",
              "Others                         141\n",
              "HS dropout or Below             29\n",
              "Technical Education Degree       2\n",
              "Name: F_qual, dtype: int64"
            ]
          },
          "execution_count": 22,
          "metadata": {},
          "output_type": "execute_result"
        }
      ],
      "source": [
        "dataset['F_qual'].value_counts()"
      ]
    },
    {
      "cell_type": "code",
      "execution_count": null,
      "metadata": {
        "id": "iVAz9axp0J4f",
        "outputId": "b08ed8f9-3407-4d59-ab14-2438026022dc"
      },
      "outputs": [
        {
          "data": {
            "text/plain": [
              "category 1    1543\n",
              "category 3    1183\n",
              "category 2     736\n",
              "Others         139\n",
              "category 4      29\n",
              "Name: M_occu, dtype: int64"
            ]
          },
          "execution_count": 23,
          "metadata": {},
          "output_type": "execute_result"
        }
      ],
      "source": [
        "dataset['M_occu'].value_counts()"
      ]
    },
    {
      "cell_type": "code",
      "execution_count": null,
      "metadata": {
        "id": "GbV3wplF0J4f",
        "outputId": "4c60937e-eec9-4820-fb7e-869b13cd5308"
      },
      "outputs": [
        {
          "data": {
            "text/plain": [
              "category 1    1083\n",
              "category 2    1023\n",
              "category 3     915\n",
              "Others         346\n",
              "category 4     263\n",
              "Name: F_occu, dtype: int64"
            ]
          },
          "execution_count": 24,
          "metadata": {},
          "output_type": "execute_result"
        }
      ],
      "source": [
        "dataset['F_occu'].value_counts()"
      ]
    },
    {
      "cell_type": "code",
      "execution_count": null,
      "metadata": {
        "id": "av3ARcmL0J4f"
      },
      "outputs": [],
      "source": []
    },
    {
      "cell_type": "code",
      "execution_count": null,
      "metadata": {
        "id": "4FWyirO00J4f"
      },
      "outputs": [],
      "source": [
        "\n",
        "ren_col_dict1 = {\"Tuition fees up to date\": \"tuition_fee_upto_date\"}\n",
        "\n",
        "dataset = dataset.rename(columns = ren_col_dict1)"
      ]
    },
    {
      "cell_type": "markdown",
      "metadata": {
        "id": "ps4lHtya0J4f"
      },
      "source": [
        "### Visualizing the Age of Enrollment vs. Target bar plot"
      ]
    },
    {
      "cell_type": "code",
      "execution_count": null,
      "metadata": {
        "id": "Gvp8_1X_0J4f",
        "outputId": "6563768a-25d7-4b09-b422-7a4f23205728"
      },
      "outputs": [
        {
          "data": {
            "text/html": [
              "<div>\n",
              "<style scoped>\n",
              "    .dataframe tbody tr th:only-of-type {\n",
              "        vertical-align: middle;\n",
              "    }\n",
              "\n",
              "    .dataframe tbody tr th {\n",
              "        vertical-align: top;\n",
              "    }\n",
              "\n",
              "    .dataframe thead th {\n",
              "        text-align: right;\n",
              "    }\n",
              "</style>\n",
              "<table border=\"1\" class=\"dataframe\">\n",
              "  <thead>\n",
              "    <tr style=\"text-align: right;\">\n",
              "      <th></th>\n",
              "      <th>Age_category</th>\n",
              "      <th>Target</th>\n",
              "      <th>Count</th>\n",
              "    </tr>\n",
              "  </thead>\n",
              "  <tbody>\n",
              "    <tr>\n",
              "      <th>0</th>\n",
              "      <td>20-25</td>\n",
              "      <td>Dropout</td>\n",
              "      <td>381</td>\n",
              "    </tr>\n",
              "    <tr>\n",
              "      <th>1</th>\n",
              "      <td>20-25</td>\n",
              "      <td>Graduate</td>\n",
              "      <td>652</td>\n",
              "    </tr>\n",
              "    <tr>\n",
              "      <th>2</th>\n",
              "      <td>25-30</td>\n",
              "      <td>Dropout</td>\n",
              "      <td>246</td>\n",
              "    </tr>\n",
              "    <tr>\n",
              "      <th>3</th>\n",
              "      <td>25-30</td>\n",
              "      <td>Graduate</td>\n",
              "      <td>109</td>\n",
              "    </tr>\n",
              "    <tr>\n",
              "      <th>4</th>\n",
              "      <td>30-35</td>\n",
              "      <td>Dropout</td>\n",
              "      <td>148</td>\n",
              "    </tr>\n",
              "    <tr>\n",
              "      <th>5</th>\n",
              "      <td>30-35</td>\n",
              "      <td>Graduate</td>\n",
              "      <td>84</td>\n",
              "    </tr>\n",
              "    <tr>\n",
              "      <th>6</th>\n",
              "      <td>35-40</td>\n",
              "      <td>Dropout</td>\n",
              "      <td>110</td>\n",
              "    </tr>\n",
              "    <tr>\n",
              "      <th>7</th>\n",
              "      <td>35-40</td>\n",
              "      <td>Graduate</td>\n",
              "      <td>61</td>\n",
              "    </tr>\n",
              "    <tr>\n",
              "      <th>8</th>\n",
              "      <td>40+</td>\n",
              "      <td>Dropout</td>\n",
              "      <td>52</td>\n",
              "    </tr>\n",
              "    <tr>\n",
              "      <th>9</th>\n",
              "      <td>40+</td>\n",
              "      <td>Graduate</td>\n",
              "      <td>45</td>\n",
              "    </tr>\n",
              "    <tr>\n",
              "      <th>10</th>\n",
              "      <td>less than 20</td>\n",
              "      <td>Dropout</td>\n",
              "      <td>409</td>\n",
              "    </tr>\n",
              "    <tr>\n",
              "      <th>11</th>\n",
              "      <td>less than 20</td>\n",
              "      <td>Graduate</td>\n",
              "      <td>1212</td>\n",
              "    </tr>\n",
              "  </tbody>\n",
              "</table>\n",
              "</div>"
            ],
            "text/plain": [
              "    Age_category    Target  Count\n",
              "0          20-25   Dropout    381\n",
              "1          20-25  Graduate    652\n",
              "2          25-30   Dropout    246\n",
              "3          25-30  Graduate    109\n",
              "4          30-35   Dropout    148\n",
              "5          30-35  Graduate     84\n",
              "6          35-40   Dropout    110\n",
              "7          35-40  Graduate     61\n",
              "8            40+   Dropout     52\n",
              "9            40+  Graduate     45\n",
              "10  less than 20   Dropout    409\n",
              "11  less than 20  Graduate   1212"
            ]
          },
          "execution_count": 26,
          "metadata": {},
          "output_type": "execute_result"
        }
      ],
      "source": [
        "s1 = dataset[['Age at enrollment', 'Target']].copy()\n",
        "\n",
        "## create age groups\n",
        "\n",
        "def age_group(age):\n",
        "\n",
        "    if age < 20:\n",
        "        return 'less than 20'\n",
        "    elif age < 25:\n",
        "        return '20-25'\n",
        "    elif age < 30:\n",
        "        return '25-30'\n",
        "    elif age < 35:\n",
        "        return '30-35'\n",
        "    elif age < 40:\n",
        "        return '35-40'\n",
        "    elif age < 45:\n",
        "        return '40+'\n",
        "\n",
        "s1['Age_category'] = s1['Age at enrollment'].apply(age_group)\n",
        "\n",
        "s2 = s1.groupby(['Age_category', 'Target']).count().reset_index(drop=False).rename(columns={'Age at enrollment': 'Count'})\n",
        "\n",
        "s2\n"
      ]
    },
    {
      "cell_type": "markdown",
      "metadata": {
        "id": "gWuh2s4i0J4f"
      },
      "source": [
        "####  Plotting the Target by Age of Enrollment"
      ]
    },
    {
      "cell_type": "code",
      "execution_count": null,
      "metadata": {
        "id": "9ISbdjiI0J4f",
        "outputId": "ec58a790-0ecc-4e03-d368-3af36488a123"
      },
      "outputs": [
        {
          "data": {
            "image/png": "[encoded data removed]",
            "text/plain": [
              "<Figure size 718.75x600 with 1 Axes>"
            ]
          },
          "metadata": {},
          "output_type": "display_data"
        }
      ],
      "source": [
        "import seaborn as sns\n",
        "sns.set_theme(style=\"whitegrid\")\n",
        "\n",
        "g = sns.catplot(\n",
        "    data=s2, kind=\"bar\",\n",
        "    x=\"Age_category\", y=\"Count\", hue=\"Target\",\n",
        "    errorbar=\"sd\", palette=\"dark\", alpha=.6, height=6, order=['less than 20', '20-25', '25-30', '30-35', '35-40', '40+']\n",
        ")\n",
        "g.despine(left=True)\n",
        "#g.set_titles(\"DropOut by Age Group\")\n",
        "g.set_axis_labels(\"\", \"Count\")\n",
        "g.legend.set_title(\"\")"
      ]
    },
    {
      "cell_type": "markdown",
      "source": [],
      "metadata": {
        "id": "hjGGudSI06bI"
      }
    },
    {
      "cell_type": "code",
      "execution_count": null,
      "metadata": {
        "id": "GKixfr5B0J4g"
      },
      "outputs": [],
      "source": [
        "dataset.rename(columns = {\"Age at enrollment\": \"enrollment_age\"}, inplace=True)\n",
        "\n",
        "dataset[\"enrollment_age\"] = dataset[\"enrollment_age\"]#.apply(age_group)\n",
        "\n",
        "#dataset[\"enrollment_age\"].value_counts()"
      ]
    },
    {
      "cell_type": "markdown",
      "metadata": {
        "id": "ZLriucY00J4g"
      },
      "source": [
        "#### Conclusion: It can be seen from here that Dropout rate goes up, for higher enrollment age buckets"
      ]
    },
    {
      "cell_type": "code",
      "execution_count": null,
      "metadata": {
        "id": "qWVfoqw00J4g"
      },
      "outputs": [],
      "source": []
    },
    {
      "cell_type": "code",
      "execution_count": null,
      "metadata": {
        "id": "8lFt-uHK0J4g"
      },
      "outputs": [],
      "source": []
    },
    {
      "cell_type": "markdown",
      "metadata": {
        "id": "jVRKOexb0J4g"
      },
      "source": [
        "### Number of Credits based features Renamed"
      ]
    },
    {
      "cell_type": "markdown",
      "metadata": {
        "id": "_l5zzyp10J4g"
      },
      "source": [
        "#### Creating Dictionary of Features with and new names"
      ]
    },
    {
      "cell_type": "code",
      "execution_count": null,
      "metadata": {
        "id": "Gi89sn-w0J4g",
        "outputId": "6ec8c076-05d9-4b54-dd64-7175692571b3"
      },
      "outputs": [
        {
          "name": "stdout",
          "output_type": "stream",
          "text": [
            "Curricular units 1st sem (credited)  ->  1st_sem_crd\n",
            "Curricular units 1st sem (enrolled)  ->  1st_sem_enrl\n",
            "Curricular units 1st sem (evaluations)  ->  1st_sem_eval\n",
            "Curricular units 1st sem (approved)  ->  1st_sem_appv\n",
            "Curricular units 1st sem (grade)  ->  1st_sem_grade\n",
            "Curricular units 1st sem (without evaluations)  ->  1st_sem_w_eval\n",
            "Curricular units 2nd sem (credited)  ->  2nd_sem_crd\n",
            "Curricular units 2nd sem (enrolled)  ->  2nd_sem_enrl\n",
            "Curricular units 2nd sem (evaluations)  ->  2nd_sem_eval\n",
            "Curricular units 2nd sem (approved)  ->  2nd_sem_appv\n",
            "Curricular units 2nd sem (grade)  ->  2nd_sem_grade\n",
            "Curricular units 2nd sem (without evaluations)  ->  2nd_sem_w_eval\n"
          ]
        }
      ],
      "source": [
        "\n",
        "credits_based_features = ['Curricular units 1st sem (credited)',\n",
        "                            'Curricular units 1st sem (enrolled)',\n",
        "                            'Curricular units 1st sem (evaluations)',\n",
        "                            'Curricular units 1st sem (approved)',\n",
        "                            'Curricular units 1st sem (grade)',\n",
        "                            'Curricular units 1st sem (without evaluations)',\n",
        "                            'Curricular units 2nd sem (credited)',\n",
        "                            'Curricular units 2nd sem (enrolled)',\n",
        "                            'Curricular units 2nd sem (evaluations)',\n",
        "                            'Curricular units 2nd sem (approved)',\n",
        "                            'Curricular units 2nd sem (grade)',\n",
        "                            'Curricular units 2nd sem (without evaluations)']\n",
        "\n",
        "credit_features_renamed = ['1st_sem_crd',\n",
        "                        '1st_sem_enrl',\n",
        "                        '1st_sem_eval',\n",
        "                        '1st_sem_appv',\n",
        "                        '1st_sem_grade',\n",
        "                        '1st_sem_w_eval',\n",
        "                        '2nd_sem_crd',\n",
        "                        '2nd_sem_enrl',\n",
        "                        '2nd_sem_eval',\n",
        "                        '2nd_sem_appv',\n",
        "                        '2nd_sem_grade',\n",
        "                        '2nd_sem_w_eval']\n",
        "\n",
        "renaming_dict_credit_features = {}\n",
        "\n",
        "for o, n in zip(credits_based_features, credit_features_renamed):\n",
        "    renaming_dict_credit_features[o] = n\n",
        "\n",
        "\n",
        "for k, v in zip(list(renaming_dict_credit_features.keys()), list(renaming_dict_credit_features.values())):\n",
        "    print(k,' -> ', v)\n",
        "\n",
        "\n",
        "dataset.rename(columns=renaming_dict_credit_features, inplace=True)"
      ]
    },
    {
      "cell_type": "code",
      "execution_count": null,
      "metadata": {
        "id": "2Ip-r6D-0J4g"
      },
      "outputs": [],
      "source": []
    },
    {
      "cell_type": "markdown",
      "metadata": {
        "id": "IlLrK_fU0J4g"
      },
      "source": [
        "#### Checking Gender variable's relationship with Target"
      ]
    },
    {
      "cell_type": "code",
      "execution_count": null,
      "metadata": {
        "id": "hhxUfP370J4g",
        "outputId": "9438a485-b67c-4f42-8eaf-739eaaabdb41"
      },
      "outputs": [
        {
          "data": {
            "image/png": "[encoded data removed]",
            "text/plain": [
              "<Figure size 718.75x600 with 1 Axes>"
            ]
          },
          "metadata": {},
          "output_type": "display_data"
        }
      ],
      "source": [
        "import seaborn as sns\n",
        "\n",
        "def create_bar_plot_w_categories(df, x_var, y_var, target_var, x_axis_label, order_x = None):\n",
        "\n",
        "    '''\n",
        "    df is the dataframe that would include the summarized dataset.\n",
        "    x_var -> is the column which is being visualized\n",
        "    y_var -> summarized stat column -> eg. count\n",
        "    order\n",
        "    '''\n",
        "\n",
        "    sns.set_theme(style=\"whitegrid\")\n",
        "\n",
        "    g = sns.catplot(\n",
        "        data=df,\n",
        "        kind=\"bar\",\n",
        "        x = x_var,\n",
        "        y = y_var,\n",
        "        hue=target_var,\n",
        "        errorbar=\"sd\",\n",
        "        palette=\"dark\",\n",
        "        alpha=.6,\n",
        "        height=6,\n",
        "        order=order_x\n",
        "    )\n",
        "    g.despine(left=True)\n",
        "    #g.set_titles(\"DropOut by Age Group\")\n",
        "    g.set_axis_labels(\"\", x_axis_label)\n",
        "    g.legend.set_title(\"\")\n",
        "\n",
        "\n",
        "\n",
        "g_t_df = dataset[['Gender', 'Target', 'Nacionality']].copy()\n",
        "g_t_df.replace({0:'Female', 1: 'Male'}, inplace=True)\n",
        "gender_df = g_t_df.groupby(['Gender', 'Target'])['Nacionality'].count().reset_index().rename(columns = {'Nacionality':'count'})\n",
        "\n",
        "create_bar_plot_w_categories(gender_df, 'Gender', 'count', 'Target', 'Count', order_x = ['Male', 'Female'])"
      ]
    },
    {
      "cell_type": "markdown",
      "source": [
        "#  Conclusion: The overall dataset has higher representation of females, yet females show a higher graduate rate."
      ],
      "metadata": {
        "id": "DSgifRx11h_4"
      }
    },
    {
      "cell_type": "code",
      "execution_count": null,
      "metadata": {
        "id": "Ngl4YZcf0J4h"
      },
      "outputs": [],
      "source": []
    },
    {
      "cell_type": "markdown",
      "metadata": {
        "id": "uEGs6YHH0J4h"
      },
      "source": [
        "#### Renaming the remaining columns to maintain consistent naming conventions"
      ]
    },
    {
      "cell_type": "code",
      "execution_count": null,
      "metadata": {
        "id": "FdppETZd0J4h"
      },
      "outputs": [],
      "source": [
        "renamed_colset_2 = {'Unemployment rate':'unemployment_rate',\n",
        "                    'Inflation rate':'inflation_rate',\n",
        "                    'GDP':'gdp',\n",
        "                    'Target':'target',\n",
        "                    'Course':'course',\n",
        "                    'Daytime/evening attendance':'daytime_evening_attnd',\n",
        "                    'M_qual':'m_qual',\n",
        "                    'F_qual':'f_qual',\n",
        "                    'M_occu':'m_occ',\n",
        "                    'F_occu':'f_occ',\n",
        "                    'Displaced': 'displaced',\n",
        "                    'Educational special needs': 'special_needs',\n",
        "                    'Debtor': 'debtor',\n",
        "                    'Gender':'gender',\n",
        "                    'Scholarship holder': 'scholarship_holder'}\n",
        "\n",
        "df = dataset.rename(columns=renamed_colset_2)"
      ]
    },
    {
      "cell_type": "code",
      "execution_count": null,
      "metadata": {
        "id": "pL4YRFUC0J4h"
      },
      "outputs": [],
      "source": [
        "dataset_columns = ['marital_status', 'application_order',\n",
        "       'daytime_evening_attnd', 'previous_qualifications',\n",
        "       'm_qual', 'f_qual', 'm_occ', 'f_occ', 'displaced', 'special_needs',\n",
        "       'debtor', 'tuition_fee_upto_date', 'gender', 'scholarship_holder',\n",
        "       'enrollment_age', '1st_sem_crd', '1st_sem_enrl',\n",
        "       '1st_sem_eval', '1st_sem_appv', '1st_sem_grade', '1st_sem_w_eval',\n",
        "       '2nd_sem_crd', '2nd_sem_enrl', '2nd_sem_eval', '2nd_sem_appv',\n",
        "       '2nd_sem_grade', '2nd_sem_w_eval', 'unemployment_rate',\n",
        "       'inflation_rate', 'gdp', 'target']\n",
        "\n",
        "\n",
        "df = df[dataset_columns]"
      ]
    },
    {
      "cell_type": "code",
      "execution_count": null,
      "metadata": {
        "id": "tm8_lDSJ0J4h",
        "outputId": "cb10452b-9ccc-4827-a5bf-e3f85c99cdde"
      },
      "outputs": [
        {
          "data": {
            "text/html": [
              "<div>\n",
              "<style scoped>\n",
              "    .dataframe tbody tr th:only-of-type {\n",
              "        vertical-align: middle;\n",
              "    }\n",
              "\n",
              "    .dataframe tbody tr th {\n",
              "        vertical-align: top;\n",
              "    }\n",
              "\n",
              "    .dataframe thead th {\n",
              "        text-align: right;\n",
              "    }\n",
              "</style>\n",
              "<table border=\"1\" class=\"dataframe\">\n",
              "  <thead>\n",
              "    <tr style=\"text-align: right;\">\n",
              "      <th></th>\n",
              "      <th>marital_status</th>\n",
              "      <th>application_order</th>\n",
              "      <th>daytime_evening_attnd</th>\n",
              "      <th>previous_qualifications</th>\n",
              "      <th>m_qual</th>\n",
              "      <th>f_qual</th>\n",
              "      <th>m_occ</th>\n",
              "      <th>f_occ</th>\n",
              "      <th>displaced</th>\n",
              "      <th>special_needs</th>\n",
              "      <th>...</th>\n",
              "      <th>2nd_sem_crd</th>\n",
              "      <th>2nd_sem_enrl</th>\n",
              "      <th>2nd_sem_eval</th>\n",
              "      <th>2nd_sem_appv</th>\n",
              "      <th>2nd_sem_grade</th>\n",
              "      <th>2nd_sem_w_eval</th>\n",
              "      <th>unemployment_rate</th>\n",
              "      <th>inflation_rate</th>\n",
              "      <th>gdp</th>\n",
              "      <th>target</th>\n",
              "    </tr>\n",
              "  </thead>\n",
              "  <tbody>\n",
              "    <tr>\n",
              "      <th>0</th>\n",
              "      <td>single</td>\n",
              "      <td>Priority 2</td>\n",
              "      <td>1</td>\n",
              "      <td>Schooling Complete</td>\n",
              "      <td>HS Completed</td>\n",
              "      <td>HS Completed</td>\n",
              "      <td>category 3</td>\n",
              "      <td>category 1</td>\n",
              "      <td>1</td>\n",
              "      <td>0</td>\n",
              "      <td>...</td>\n",
              "      <td>0</td>\n",
              "      <td>0</td>\n",
              "      <td>0</td>\n",
              "      <td>0</td>\n",
              "      <td>0.000000</td>\n",
              "      <td>0</td>\n",
              "      <td>10.8</td>\n",
              "      <td>1.4</td>\n",
              "      <td>1.74</td>\n",
              "      <td>Dropout</td>\n",
              "    </tr>\n",
              "    <tr>\n",
              "      <th>1</th>\n",
              "      <td>single</td>\n",
              "      <td>Priority 1</td>\n",
              "      <td>1</td>\n",
              "      <td>Schooling Complete</td>\n",
              "      <td>Schooling Complete</td>\n",
              "      <td>Higher Education</td>\n",
              "      <td>category 2</td>\n",
              "      <td>category 2</td>\n",
              "      <td>1</td>\n",
              "      <td>0</td>\n",
              "      <td>...</td>\n",
              "      <td>0</td>\n",
              "      <td>6</td>\n",
              "      <td>6</td>\n",
              "      <td>6</td>\n",
              "      <td>13.666667</td>\n",
              "      <td>0</td>\n",
              "      <td>13.9</td>\n",
              "      <td>-0.3</td>\n",
              "      <td>0.79</td>\n",
              "      <td>Graduate</td>\n",
              "    </tr>\n",
              "    <tr>\n",
              "      <th>2</th>\n",
              "      <td>single</td>\n",
              "      <td>Priority 2</td>\n",
              "      <td>1</td>\n",
              "      <td>Schooling Complete</td>\n",
              "      <td>Technical Education Degree</td>\n",
              "      <td>HS Completed</td>\n",
              "      <td>category 1</td>\n",
              "      <td>category 1</td>\n",
              "      <td>1</td>\n",
              "      <td>0</td>\n",
              "      <td>...</td>\n",
              "      <td>0</td>\n",
              "      <td>6</td>\n",
              "      <td>0</td>\n",
              "      <td>0</td>\n",
              "      <td>0.000000</td>\n",
              "      <td>0</td>\n",
              "      <td>10.8</td>\n",
              "      <td>1.4</td>\n",
              "      <td>1.74</td>\n",
              "      <td>Dropout</td>\n",
              "    </tr>\n",
              "    <tr>\n",
              "      <th>3</th>\n",
              "      <td>single</td>\n",
              "      <td>Priority 1</td>\n",
              "      <td>1</td>\n",
              "      <td>Schooling Complete</td>\n",
              "      <td>Technical Education Degree</td>\n",
              "      <td>HS Completed</td>\n",
              "      <td>category 3</td>\n",
              "      <td>category 2</td>\n",
              "      <td>1</td>\n",
              "      <td>0</td>\n",
              "      <td>...</td>\n",
              "      <td>0</td>\n",
              "      <td>6</td>\n",
              "      <td>10</td>\n",
              "      <td>5</td>\n",
              "      <td>12.400000</td>\n",
              "      <td>0</td>\n",
              "      <td>9.4</td>\n",
              "      <td>-0.8</td>\n",
              "      <td>-3.12</td>\n",
              "      <td>Graduate</td>\n",
              "    </tr>\n",
              "    <tr>\n",
              "      <th>4</th>\n",
              "      <td>married</td>\n",
              "      <td>Priority 1</td>\n",
              "      <td>0</td>\n",
              "      <td>Schooling Complete</td>\n",
              "      <td>Technical Education Degree</td>\n",
              "      <td>HS Completed</td>\n",
              "      <td>category 1</td>\n",
              "      <td>category 1</td>\n",
              "      <td>0</td>\n",
              "      <td>0</td>\n",
              "      <td>...</td>\n",
              "      <td>0</td>\n",
              "      <td>6</td>\n",
              "      <td>6</td>\n",
              "      <td>6</td>\n",
              "      <td>13.000000</td>\n",
              "      <td>0</td>\n",
              "      <td>13.9</td>\n",
              "      <td>-0.3</td>\n",
              "      <td>0.79</td>\n",
              "      <td>Graduate</td>\n",
              "    </tr>\n",
              "  </tbody>\n",
              "</table>\n",
              "<p>5 rows × 31 columns</p>\n",
              "</div>"
            ],
            "text/plain": [
              "  marital_status application_order  daytime_evening_attnd  \\\n",
              "0         single        Priority 2                      1   \n",
              "1         single        Priority 1                      1   \n",
              "2         single        Priority 2                      1   \n",
              "3         single        Priority 1                      1   \n",
              "4        married        Priority 1                      0   \n",
              "\n",
              "  previous_qualifications                      m_qual            f_qual  \\\n",
              "0      Schooling Complete                HS Completed      HS Completed   \n",
              "1      Schooling Complete          Schooling Complete  Higher Education   \n",
              "2      Schooling Complete  Technical Education Degree      HS Completed   \n",
              "3      Schooling Complete  Technical Education Degree      HS Completed   \n",
              "4      Schooling Complete  Technical Education Degree      HS Completed   \n",
              "\n",
              "        m_occ       f_occ  displaced  special_needs  ...  2nd_sem_crd  \\\n",
              "0  category 3  category 1          1              0  ...            0   \n",
              "1  category 2  category 2          1              0  ...            0   \n",
              "2  category 1  category 1          1              0  ...            0   \n",
              "3  category 3  category 2          1              0  ...            0   \n",
              "4  category 1  category 1          0              0  ...            0   \n",
              "\n",
              "   2nd_sem_enrl  2nd_sem_eval  2nd_sem_appv  2nd_sem_grade  2nd_sem_w_eval  \\\n",
              "0             0             0             0       0.000000               0   \n",
              "1             6             6             6      13.666667               0   \n",
              "2             6             0             0       0.000000               0   \n",
              "3             6            10             5      12.400000               0   \n",
              "4             6             6             6      13.000000               0   \n",
              "\n",
              "   unemployment_rate  inflation_rate   gdp    target  \n",
              "0               10.8             1.4  1.74   Dropout  \n",
              "1               13.9            -0.3  0.79  Graduate  \n",
              "2               10.8             1.4  1.74   Dropout  \n",
              "3                9.4            -0.8 -3.12  Graduate  \n",
              "4               13.9            -0.3  0.79  Graduate  \n",
              "\n",
              "[5 rows x 31 columns]"
            ]
          },
          "execution_count": 33,
          "metadata": {},
          "output_type": "execute_result"
        }
      ],
      "source": [
        "df.head(5)"
      ]
    },
    {
      "cell_type": "code",
      "execution_count": null,
      "metadata": {
        "colab": {
          "base_uri": "https://localhost:8080/",
          "height": 352
        },
        "id": "6b7bTw5I10sK",
        "outputId": "fb189f3c-3b97-4767-cab5-3faa0a73213b"
      },
      "outputs": [
        {
          "data": {
            "text/plain": [
              "Schooling Complete      3019\n",
              "Schooling Incomplete     387\n",
              "Higher Studies           167\n",
              "Others                    57\n",
              "Name: previous_qualifications, dtype: int64"
            ]
          },
          "execution_count": 34,
          "metadata": {},
          "output_type": "execute_result"
        }
      ],
      "source": [
        "dataset['previous_qualifications'].value_counts()"
      ]
    },
    {
      "cell_type": "markdown",
      "metadata": {
        "id": "--PuyBKv0J4h"
      },
      "source": [
        "#### Applying One-hot-Encoding to selected Categorical Columns"
      ]
    },
    {
      "cell_type": "code",
      "execution_count": null,
      "metadata": {
        "id": "sVgRZzbY0J4h",
        "outputId": "4f4e1c06-11f9-47c4-fe76-bdec795dcf7b"
      },
      "outputs": [
        {
          "name": "stdout",
          "output_type": "stream",
          "text": [
            "marital_status  Encoded and original column dropped\n",
            "previous_qualifications  Encoded and original column dropped\n",
            "m_qual  Encoded and original column dropped\n",
            "f_qual  Encoded and original column dropped\n",
            "m_occ  Encoded and original column dropped\n",
            "f_occ  Encoded and original column dropped\n",
            "application_order  Encoded and original column dropped\n"
          ]
        }
      ],
      "source": [
        "\n",
        "def one_hot_encode(df, column_names):\n",
        "    '''\n",
        "    This is able create one-hot-encodings for the columns passed in as parameters and then drops the columns\n",
        "    '''\n",
        "    for column_name in column_names:\n",
        "        # Perform one-hot encoding using pandas get_dummies() function\n",
        "        encoded_df = pd.get_dummies(df[column_name], prefix=column_name)\n",
        "\n",
        "        # Concatenate the one-hot encoded DataFrame with the original DataFrame\n",
        "        df = pd.concat([df, encoded_df], axis=1)\n",
        "\n",
        "        # Drop the original column\n",
        "        df.drop(column_name, axis=1, inplace=True)\n",
        "\n",
        "        print(column_name, \" Encoded and original column dropped\")\n",
        "\n",
        "    return df\n",
        "\n",
        "\n",
        "cols_to_modify = ['marital_status', 'previous_qualifications', 'm_qual', 'f_qual',\n",
        "                  'm_occ', 'f_occ', 'application_order']\n",
        "\n",
        "\n",
        "df1 = one_hot_encode(df, cols_to_modify)"
      ]
    },
    {
      "cell_type": "code",
      "execution_count": null,
      "metadata": {
        "id": "RG5Z2kcb0J4i",
        "outputId": "d3e35070-ada1-47d3-ec79-883445ce2164"
      },
      "outputs": [
        {
          "data": {
            "text/plain": [
              "single     3199\n",
              "married     327\n",
              "others      104\n",
              "Name: marital_status, dtype: int64"
            ]
          },
          "execution_count": 38,
          "metadata": {},
          "output_type": "execute_result"
        }
      ],
      "source": [
        "df['marital_status'].value_counts()"
      ]
    },
    {
      "cell_type": "markdown",
      "metadata": {
        "id": "O6NhtNah0J4i"
      },
      "source": [
        "#### Exploring the Nummeric columns\n"
      ]
    },
    {
      "cell_type": "code",
      "execution_count": null,
      "metadata": {
        "id": "QQal65OP0J4i",
        "outputId": "f6dfb90f-a74d-4212-ccfa-e46583be06a9"
      },
      "outputs": [
        {
          "data": {
            "text/html": [
              "<div>\n",
              "<style scoped>\n",
              "    .dataframe tbody tr th:only-of-type {\n",
              "        vertical-align: middle;\n",
              "    }\n",
              "\n",
              "    .dataframe tbody tr th {\n",
              "        vertical-align: top;\n",
              "    }\n",
              "\n",
              "    .dataframe thead th {\n",
              "        text-align: right;\n",
              "    }\n",
              "</style>\n",
              "<table border=\"1\" class=\"dataframe\">\n",
              "  <thead>\n",
              "    <tr style=\"text-align: right;\">\n",
              "      <th></th>\n",
              "      <th>count</th>\n",
              "      <th>mean</th>\n",
              "      <th>std</th>\n",
              "      <th>min</th>\n",
              "      <th>25%</th>\n",
              "      <th>50%</th>\n",
              "      <th>75%</th>\n",
              "      <th>max</th>\n",
              "    </tr>\n",
              "  </thead>\n",
              "  <tbody>\n",
              "    <tr>\n",
              "      <th>1st_sem_crd</th>\n",
              "      <td>3630.0</td>\n",
              "      <td>0.754270</td>\n",
              "      <td>2.477277</td>\n",
              "      <td>0.00</td>\n",
              "      <td>0.000000</td>\n",
              "      <td>0.000000</td>\n",
              "      <td>0.00</td>\n",
              "      <td>20.000000</td>\n",
              "    </tr>\n",
              "    <tr>\n",
              "      <th>1st_sem_enrl</th>\n",
              "      <td>3630.0</td>\n",
              "      <td>6.337466</td>\n",
              "      <td>2.570773</td>\n",
              "      <td>0.00</td>\n",
              "      <td>5.000000</td>\n",
              "      <td>6.000000</td>\n",
              "      <td>7.00</td>\n",
              "      <td>26.000000</td>\n",
              "    </tr>\n",
              "    <tr>\n",
              "      <th>1st_sem_eval</th>\n",
              "      <td>3630.0</td>\n",
              "      <td>8.071074</td>\n",
              "      <td>4.286632</td>\n",
              "      <td>0.00</td>\n",
              "      <td>6.000000</td>\n",
              "      <td>8.000000</td>\n",
              "      <td>10.00</td>\n",
              "      <td>45.000000</td>\n",
              "    </tr>\n",
              "    <tr>\n",
              "      <th>1st_sem_appv</th>\n",
              "      <td>3630.0</td>\n",
              "      <td>4.791460</td>\n",
              "      <td>3.237845</td>\n",
              "      <td>0.00</td>\n",
              "      <td>3.000000</td>\n",
              "      <td>5.000000</td>\n",
              "      <td>6.00</td>\n",
              "      <td>26.000000</td>\n",
              "    </tr>\n",
              "    <tr>\n",
              "      <th>1st_sem_grade</th>\n",
              "      <td>3630.0</td>\n",
              "      <td>10.534860</td>\n",
              "      <td>5.057694</td>\n",
              "      <td>0.00</td>\n",
              "      <td>11.000000</td>\n",
              "      <td>12.341429</td>\n",
              "      <td>13.50</td>\n",
              "      <td>18.875000</td>\n",
              "    </tr>\n",
              "    <tr>\n",
              "      <th>1st_sem_w_eval</th>\n",
              "      <td>3630.0</td>\n",
              "      <td>0.128926</td>\n",
              "      <td>0.679111</td>\n",
              "      <td>0.00</td>\n",
              "      <td>0.000000</td>\n",
              "      <td>0.000000</td>\n",
              "      <td>0.00</td>\n",
              "      <td>12.000000</td>\n",
              "    </tr>\n",
              "    <tr>\n",
              "      <th>2nd_sem_crd</th>\n",
              "      <td>3630.0</td>\n",
              "      <td>0.581818</td>\n",
              "      <td>2.022688</td>\n",
              "      <td>0.00</td>\n",
              "      <td>0.000000</td>\n",
              "      <td>0.000000</td>\n",
              "      <td>0.00</td>\n",
              "      <td>19.000000</td>\n",
              "    </tr>\n",
              "    <tr>\n",
              "      <th>2nd_sem_enrl</th>\n",
              "      <td>3630.0</td>\n",
              "      <td>6.296419</td>\n",
              "      <td>2.263020</td>\n",
              "      <td>0.00</td>\n",
              "      <td>5.000000</td>\n",
              "      <td>6.000000</td>\n",
              "      <td>7.00</td>\n",
              "      <td>23.000000</td>\n",
              "    </tr>\n",
              "    <tr>\n",
              "      <th>2nd_sem_eval</th>\n",
              "      <td>3630.0</td>\n",
              "      <td>7.763085</td>\n",
              "      <td>3.964163</td>\n",
              "      <td>0.00</td>\n",
              "      <td>6.000000</td>\n",
              "      <td>8.000000</td>\n",
              "      <td>10.00</td>\n",
              "      <td>33.000000</td>\n",
              "    </tr>\n",
              "    <tr>\n",
              "      <th>2nd_sem_appv</th>\n",
              "      <td>3630.0</td>\n",
              "      <td>4.518457</td>\n",
              "      <td>3.162376</td>\n",
              "      <td>0.00</td>\n",
              "      <td>2.000000</td>\n",
              "      <td>5.000000</td>\n",
              "      <td>6.00</td>\n",
              "      <td>20.000000</td>\n",
              "    </tr>\n",
              "    <tr>\n",
              "      <th>2nd_sem_grade</th>\n",
              "      <td>3630.0</td>\n",
              "      <td>10.036155</td>\n",
              "      <td>5.481742</td>\n",
              "      <td>0.00</td>\n",
              "      <td>10.517857</td>\n",
              "      <td>12.333333</td>\n",
              "      <td>13.50</td>\n",
              "      <td>18.571429</td>\n",
              "    </tr>\n",
              "    <tr>\n",
              "      <th>2nd_sem_w_eval</th>\n",
              "      <td>3630.0</td>\n",
              "      <td>0.142149</td>\n",
              "      <td>0.747670</td>\n",
              "      <td>0.00</td>\n",
              "      <td>0.000000</td>\n",
              "      <td>0.000000</td>\n",
              "      <td>0.00</td>\n",
              "      <td>12.000000</td>\n",
              "    </tr>\n",
              "    <tr>\n",
              "      <th>unemployment_rate</th>\n",
              "      <td>3630.0</td>\n",
              "      <td>11.630358</td>\n",
              "      <td>2.667652</td>\n",
              "      <td>7.60</td>\n",
              "      <td>9.400000</td>\n",
              "      <td>11.100000</td>\n",
              "      <td>13.90</td>\n",
              "      <td>16.200000</td>\n",
              "    </tr>\n",
              "    <tr>\n",
              "      <th>inflation_rate</th>\n",
              "      <td>3630.0</td>\n",
              "      <td>1.231598</td>\n",
              "      <td>1.384911</td>\n",
              "      <td>-0.80</td>\n",
              "      <td>0.300000</td>\n",
              "      <td>1.400000</td>\n",
              "      <td>2.60</td>\n",
              "      <td>3.700000</td>\n",
              "    </tr>\n",
              "    <tr>\n",
              "      <th>gdp</th>\n",
              "      <td>3630.0</td>\n",
              "      <td>-0.009256</td>\n",
              "      <td>2.259986</td>\n",
              "      <td>-4.06</td>\n",
              "      <td>-1.700000</td>\n",
              "      <td>0.320000</td>\n",
              "      <td>1.79</td>\n",
              "      <td>3.510000</td>\n",
              "    </tr>\n",
              "  </tbody>\n",
              "</table>\n",
              "</div>"
            ],
            "text/plain": [
              "                    count       mean       std   min        25%        50%  \\\n",
              "1st_sem_crd        3630.0   0.754270  2.477277  0.00   0.000000   0.000000   \n",
              "1st_sem_enrl       3630.0   6.337466  2.570773  0.00   5.000000   6.000000   \n",
              "1st_sem_eval       3630.0   8.071074  4.286632  0.00   6.000000   8.000000   \n",
              "1st_sem_appv       3630.0   4.791460  3.237845  0.00   3.000000   5.000000   \n",
              "1st_sem_grade      3630.0  10.534860  5.057694  0.00  11.000000  12.341429   \n",
              "1st_sem_w_eval     3630.0   0.128926  0.679111  0.00   0.000000   0.000000   \n",
              "2nd_sem_crd        3630.0   0.581818  2.022688  0.00   0.000000   0.000000   \n",
              "2nd_sem_enrl       3630.0   6.296419  2.263020  0.00   5.000000   6.000000   \n",
              "2nd_sem_eval       3630.0   7.763085  3.964163  0.00   6.000000   8.000000   \n",
              "2nd_sem_appv       3630.0   4.518457  3.162376  0.00   2.000000   5.000000   \n",
              "2nd_sem_grade      3630.0  10.036155  5.481742  0.00  10.517857  12.333333   \n",
              "2nd_sem_w_eval     3630.0   0.142149  0.747670  0.00   0.000000   0.000000   \n",
              "unemployment_rate  3630.0  11.630358  2.667652  7.60   9.400000  11.100000   \n",
              "inflation_rate     3630.0   1.231598  1.384911 -0.80   0.300000   1.400000   \n",
              "gdp                3630.0  -0.009256  2.259986 -4.06  -1.700000   0.320000   \n",
              "\n",
              "                     75%        max  \n",
              "1st_sem_crd         0.00  20.000000  \n",
              "1st_sem_enrl        7.00  26.000000  \n",
              "1st_sem_eval       10.00  45.000000  \n",
              "1st_sem_appv        6.00  26.000000  \n",
              "1st_sem_grade      13.50  18.875000  \n",
              "1st_sem_w_eval      0.00  12.000000  \n",
              "2nd_sem_crd         0.00  19.000000  \n",
              "2nd_sem_enrl        7.00  23.000000  \n",
              "2nd_sem_eval       10.00  33.000000  \n",
              "2nd_sem_appv        6.00  20.000000  \n",
              "2nd_sem_grade      13.50  18.571429  \n",
              "2nd_sem_w_eval      0.00  12.000000  \n",
              "unemployment_rate  13.90  16.200000  \n",
              "inflation_rate      2.60   3.700000  \n",
              "gdp                 1.79   3.510000  "
            ]
          },
          "execution_count": 58,
          "metadata": {},
          "output_type": "execute_result"
        }
      ],
      "source": [
        "numeric_cols = ['1st_sem_crd', '1st_sem_enrl', '1st_sem_eval', '1st_sem_appv',\n",
        "            '1st_sem_grade', '1st_sem_w_eval', '2nd_sem_crd', '2nd_sem_enrl',\n",
        "            '2nd_sem_eval', '2nd_sem_appv', '2nd_sem_grade', '2nd_sem_w_eval',\n",
        "            'unemployment_rate', 'inflation_rate', 'gdp']\n",
        "\n",
        "df[numeric_cols].describe().T\n"
      ]
    },
    {
      "cell_type": "code",
      "execution_count": null,
      "metadata": {
        "id": "s_Dv6Zj10J4i"
      },
      "outputs": [],
      "source": []
    },
    {
      "cell_type": "code",
      "execution_count": null,
      "metadata": {
        "id": "7a0seC0j0J4i",
        "outputId": "35ce5ffc-788f-4bc7-a1cf-11fe4fc29b9b"
      },
      "outputs": [
        {
          "data": {
            "text/plain": [
              "Index(['daytime_evening_attnd', 'displaced', 'special_needs', 'debtor',\n",
              "       'tuition_fee_upto_date', 'gender', 'scholarship_holder',\n",
              "       'enrollment_age', '1st_sem_crd', '1st_sem_enrl', '1st_sem_eval',\n",
              "       '1st_sem_appv', '1st_sem_grade', '1st_sem_w_eval', '2nd_sem_crd',\n",
              "       '2nd_sem_enrl', '2nd_sem_eval', '2nd_sem_appv', '2nd_sem_grade',\n",
              "       '2nd_sem_w_eval', 'unemployment_rate', 'inflation_rate', 'gdp',\n",
              "       'target', 'marital_status_married', 'marital_status_others',\n",
              "       'marital_status_single', 'previous_qualifications_Higher Studies',\n",
              "       'previous_qualifications_Others',\n",
              "       'previous_qualifications_Schooling Complete',\n",
              "       'previous_qualifications_Schooling Incomplete', 'm_qual_HS Completed',\n",
              "       'm_qual_HS dropout or Below', 'm_qual_Higher Education',\n",
              "       'm_qual_Others', 'm_qual_Schooling Complete',\n",
              "       'm_qual_Technical Education Degree', 'f_qual_HS Completed',\n",
              "       'f_qual_HS dropout or Below', 'f_qual_Higher Education',\n",
              "       'f_qual_Others', 'f_qual_Schooling Complete',\n",
              "       'f_qual_Technical Education Degree', 'm_occ_Others', 'm_occ_category 1',\n",
              "       'm_occ_category 2', 'm_occ_category 3', 'm_occ_category 4',\n",
              "       'f_occ_Others', 'f_occ_category 1', 'f_occ_category 2',\n",
              "       'f_occ_category 3', 'f_occ_category 4', 'application_order_Priority 1',\n",
              "       'application_order_Priority 2'],\n",
              "      dtype='object')"
            ]
          },
          "execution_count": 61,
          "metadata": {},
          "output_type": "execute_result"
        }
      ],
      "source": [
        "df1.columns"
      ]
    },
    {
      "cell_type": "code",
      "execution_count": null,
      "metadata": {
        "id": "aVymgekj0J4i"
      },
      "outputs": [],
      "source": [
        "x_cols = ['marital_status_married','marital_status_others', 'marital_status_single',\n",
        "          'daytime_evening_attnd', 'displaced', 'special_needs',\n",
        "            'debtor', 'tuition_fee_upto_date', 'gender', 'scholarship_holder',\n",
        "            '1st_sem_crd', '1st_sem_enrl', '1st_sem_eval', '1st_sem_appv',\n",
        "            '1st_sem_grade', '1st_sem_w_eval', '2nd_sem_crd', '2nd_sem_enrl',\n",
        "            '2nd_sem_eval', '2nd_sem_appv', '2nd_sem_grade', '2nd_sem_w_eval',\n",
        "            'unemployment_rate', 'inflation_rate', 'gdp',\n",
        "            'previous_qualifications_Higher Studies',\n",
        "            'previous_qualifications_Others',\n",
        "            'previous_qualifications_Schooling Complete',\n",
        "            'previous_qualifications_Schooling Incomplete', 'm_qual_HS Completed',\n",
        "            'm_qual_HS dropout or Below', 'm_qual_Higher Education',\n",
        "            'm_qual_Others', 'm_qual_Schooling Complete',\n",
        "            'm_qual_Technical Education Degree', 'f_qual_HS Completed',\n",
        "            'f_qual_HS dropout or Below', 'f_qual_Higher Education',\n",
        "            'f_qual_Others', 'f_qual_Schooling Complete',\n",
        "            'f_qual_Technical Education Degree', 'm_occ_Others', 'm_occ_category 1',\n",
        "            'm_occ_category 2', 'm_occ_category 3', 'm_occ_category 4',\n",
        "            'f_occ_Others', 'f_occ_category 1', 'f_occ_category 2',\n",
        "            'f_occ_category 3', 'f_occ_category 4', 'application_order_Priority 1',\n",
        "            'application_order_Priority 2']\n",
        "\n",
        "X = df1[x_cols]\n",
        "\n",
        "y = df1['target']\n"
      ]
    },
    {
      "cell_type": "code",
      "execution_count": null,
      "metadata": {
        "id": "JdBjOmuW0J4i"
      },
      "outputs": [],
      "source": []
    },
    {
      "cell_type": "markdown",
      "metadata": {
        "id": "HtzODd1G0J4i"
      },
      "source": [
        "### Creating the Target Variable for Model Training step"
      ]
    },
    {
      "cell_type": "code",
      "execution_count": null,
      "metadata": {
        "id": "tX6x6DJB0J4i"
      },
      "outputs": [],
      "source": [
        "target_replace_dict = {'Graduate': 0,\n",
        "                        'Dropout': 1,\n",
        "                        'Enrolled': 2}\n",
        "\n",
        "y = y.replace(target_replace_dict)\n"
      ]
    },
    {
      "cell_type": "markdown",
      "metadata": {
        "id": "jr3V2o3n0J4i"
      },
      "source": [
        "#### Exploring and Visualizing the Target labels"
      ]
    },
    {
      "cell_type": "code",
      "execution_count": null,
      "metadata": {
        "id": "NRJUx_qT0J4i",
        "outputId": "9500b77d-8272-4f1e-8c26-5e35239010c8"
      },
      "outputs": [
        {
          "data": {
            "image/png": "[encoded data removed]",
            "text/plain": [
              "<Figure size 640x480 with 1 Axes>"
            ]
          },
          "metadata": {},
          "output_type": "display_data"
        }
      ],
      "source": [
        "target_df = pd.DataFrame(df1['target'].value_counts()).reset_index()\n",
        "\n",
        "target_df.rename(columns = {'index': 'Target',\n",
        "                            'target': 'Count'}, inplace=True)\n",
        "\n",
        "sns.barplot(x='Target', y='Count', data=target_df, order=['Graduate', 'Dropout'])\n",
        "plt.show()"
      ]
    },
    {
      "cell_type": "markdown",
      "source": [
        "#. Conclusion: There is an imbalance in the given dataset, where graduates are over represented in the data."
      ],
      "metadata": {
        "id": "gjx6Xf302IZI"
      }
    },
    {
      "cell_type": "markdown",
      "metadata": {
        "id": "0ILivaDy0J4i"
      },
      "source": [
        "#### Using the SMOTE to oversample the minority classes"
      ]
    },
    {
      "cell_type": "code",
      "execution_count": null,
      "metadata": {
        "id": "r5zCXHp-0J4j"
      },
      "outputs": [],
      "source": [
        "from imblearn.over_sampling import SMOTE\n",
        "\n",
        "# transform the dataset\n",
        "oversample = SMOTE()\n",
        "x_t, target_t = oversample.fit_resample(X, y)\n"
      ]
    },
    {
      "cell_type": "code",
      "execution_count": null,
      "metadata": {
        "id": "xXnAK70K0J4j",
        "outputId": "1109d187-ee51-4896-bcd6-f2b9606cc1db"
      },
      "outputs": [
        {
          "data": {
            "text/plain": [
              "1    2209\n",
              "0    2209\n",
              "Name: target, dtype: int64"
            ]
          },
          "execution_count": 66,
          "metadata": {},
          "output_type": "execute_result"
        }
      ],
      "source": [
        "target_t.value_counts()"
      ]
    },
    {
      "cell_type": "code",
      "execution_count": null,
      "metadata": {
        "id": "zob600qJ0J4j"
      },
      "outputs": [],
      "source": []
    },
    {
      "cell_type": "markdown",
      "metadata": {
        "id": "ynBgte-q0J4j"
      },
      "source": [
        "### Implementing Logistic Regression, xgboost, randomForest using 80/20 split"
      ]
    },
    {
      "cell_type": "code",
      "source": [],
      "metadata": {
        "id": "FBLYMQ5T23KS"
      },
      "execution_count": null,
      "outputs": []
    },
    {
      "cell_type": "code",
      "execution_count": null,
      "metadata": {
        "id": "QTnc1Nv80J4j"
      },
      "outputs": [],
      "source": [
        "from sklearn.linear_model import LogisticRegression\n",
        "from sklearn.ensemble import RandomForestClassifier\n",
        "import xgboost as xgb\n",
        "from sklearn.model_selection import train_test_split\n",
        "from sklearn.metrics import accuracy_score\n"
      ]
    },
    {
      "cell_type": "code",
      "execution_count": null,
      "metadata": {
        "id": "lDetSLOF0J4j"
      },
      "outputs": [],
      "source": [
        "X_train, X_test, y_train, y_test  = train_test_split(X, y, test_size=0.2)"
      ]
    },
    {
      "cell_type": "markdown",
      "metadata": {
        "id": "n3Koeq-O0J4j"
      },
      "source": [
        "### Building Logistic Regression, Random Forest Classification and XGBoost Algorithms for classification"
      ]
    },
    {
      "cell_type": "markdown",
      "metadata": {
        "id": "ikQ6JzYY0J4j"
      },
      "source": [
        "#### Using Logistic Regression Classifier"
      ]
    },
    {
      "cell_type": "code",
      "execution_count": null,
      "metadata": {
        "id": "TAsvoFFL0J4j",
        "outputId": "09706f15-8ede-4ee6-b917-b8b29caf5758"
      },
      "outputs": [
        {
          "data": {
            "text/plain": [
              "0.9201101928374655"
            ]
          },
          "execution_count": 69,
          "metadata": {},
          "output_type": "execute_result"
        }
      ],
      "source": [
        "lr1 = LogisticRegression()\n",
        "\n",
        "lr1.fit(X_train, y_train)\n",
        "\n",
        "y_pred = lr1.predict(X_test)\n",
        "\n",
        "accuracy_score(y_test, y_pred)"
      ]
    },
    {
      "cell_type": "markdown",
      "metadata": {
        "id": "MHds_MNq0J4j"
      },
      "source": [
        "#### Using Random Forest Classifier model"
      ]
    },
    {
      "cell_type": "code",
      "execution_count": null,
      "metadata": {
        "id": "VtcXVMXU0J4j",
        "outputId": "8cbbdea1-323d-4081-a41a-9c22a504a5c9"
      },
      "outputs": [
        {
          "data": {
            "text/plain": [
              "0.9077134986225895"
            ]
          },
          "execution_count": 70,
          "metadata": {},
          "output_type": "execute_result"
        }
      ],
      "source": [
        "rf1 = RandomForestClassifier()\n",
        "\n",
        "rf1.fit(X_train, y_train)\n",
        "\n",
        "y_pred_rf = rf1.predict(X_test)\n",
        "\n",
        "accuracy_score(y_test, y_pred_rf)"
      ]
    },
    {
      "cell_type": "markdown",
      "metadata": {
        "id": "2WcYDM5K0J4j"
      },
      "source": [
        "#### Using XGBoost Algorithm for Classification"
      ]
    },
    {
      "cell_type": "code",
      "execution_count": null,
      "metadata": {
        "id": "8HfQYf0k0J4k",
        "outputId": "f2af2caf-adc3-47db-ced2-1c1d6d728aab"
      },
      "outputs": [
        {
          "data": {
            "text/plain": [
              "0.9035812672176309"
            ]
          },
          "execution_count": 71,
          "metadata": {},
          "output_type": "execute_result"
        }
      ],
      "source": [
        "xgb_classifier = xgb.XGBClassifier()\n",
        "\n",
        "xgb_classifier.fit(X_train, y_train)\n",
        "\n",
        "y_pred_xgb1 = xgb_classifier.predict(X_test)\n",
        "\n",
        "accuracy_score(y_test, y_pred_xgb1)"
      ]
    },
    {
      "cell_type": "markdown",
      "metadata": {
        "id": "dYzFwoVu0J4k"
      },
      "source": [
        "## Using K-fold cross validation to perform the data splits\n",
        "\n",
        "### Since the training set is small, we will train the models after the k-fold data splits"
      ]
    },
    {
      "cell_type": "code",
      "execution_count": null,
      "metadata": {
        "id": "mIIfemcU0J4k"
      },
      "outputs": [],
      "source": [
        "from sklearn.model_selection import cross_val_score, KFold"
      ]
    },
    {
      "cell_type": "code",
      "execution_count": null,
      "metadata": {
        "id": "cNYlofXq0J4k"
      },
      "outputs": [],
      "source": []
    },
    {
      "cell_type": "markdown",
      "metadata": {
        "id": "NX07YlRH0J4k"
      },
      "source": [
        "#### Testing for different values of k in k-fold we train and models and assess the accuracies"
      ]
    },
    {
      "cell_type": "code",
      "execution_count": null,
      "metadata": {
        "id": "prAfIUWA0J4k",
        "outputId": "00b6f84c-20fb-4344-fb59-fed480dc6487"
      },
      "outputs": [
        {
          "name": "stdout",
          "output_type": "stream",
          "text": [
            "Current value of k: 4\n",
            "Logistic Regression score for k = 4:  0.9057826668738981\n",
            "Random forest score with k = 4 :  0.8994482463851882\n",
            "XGBoost classification score with k = 4 :  0.9008297553536129\n",
            "\n",
            "Current value of k: 5\n",
            "Logistic Regression score for k = 5:  0.9085399449035814\n",
            "Random forest score with k = 5 :  0.903305785123967\n",
            "XGBoost classification score with k = 5 :  0.9052341597796143\n",
            "\n",
            "Current value of k: 6\n",
            "Logistic Regression score for k = 6:  0.9071625344352617\n",
            "Random forest score with k = 6 :  0.903581267217631\n",
            "XGBoost classification score with k = 6 :  0.8991735537190083\n",
            "\n",
            "Current value of k: 8\n",
            "Logistic Regression score for k = 8:  0.9068866635547645\n",
            "Random forest score with k = 8 :  0.9052334655891705\n",
            "XGBoost classification score with k = 8 :  0.9002775184526068\n",
            "\n",
            "Current value of k: 10\n",
            "Logistic Regression score for k = 10:  0.9082644628099172\n",
            "Random forest score with k = 10 :  0.9068870523415977\n",
            "XGBoost classification score with k = 10 :  0.9046831955922864\n",
            "\n"
          ]
        }
      ],
      "source": [
        "\n",
        "\n",
        "for k in [4, 5, 6, 8, 10]:\n",
        "\n",
        "\n",
        "    lr2 = LogisticRegression()\n",
        "    rf2 = RandomForestClassifier()\n",
        "    xgb2 = xgb.XGBClassifier()\n",
        "\n",
        "    print(\"Current value of k:\", k)\n",
        "\n",
        "    lr2_scores = cross_val_score(lr2, X, y, cv = k)\n",
        "    print(f\"Logistic Regression score for k = {k}: \", lr2_scores.mean())\n",
        "\n",
        "    rf2_scores = cross_val_score(rf2, X, y, cv=k)\n",
        "    print(f\"Random forest score with k = {k} : \", rf2_scores.mean())\n",
        "\n",
        "    xgb2_scores = cross_val_score(xgb2, X, y, cv = k)\n",
        "    print(f\"XGBoost classification score with k = {k} : \", xgb2_scores.mean())\n",
        "\n",
        "    print()"
      ]
    },
    {
      "cell_type": "markdown",
      "metadata": {
        "id": "BlrXKkiZ0J4k"
      },
      "source": [
        "#### Enhancing the Random-Forest algorithm to fine-tune the model for better performance\n",
        " - Performing Grid-search for random-forest model fine tuning while using cross-validation (k=10)"
      ]
    },
    {
      "cell_type": "code",
      "execution_count": null,
      "metadata": {
        "id": "fdKXXd8Z0J4k"
      },
      "outputs": [],
      "source": [
        "from sklearn.model_selection import GridSearchCV"
      ]
    },
    {
      "cell_type": "code",
      "execution_count": null,
      "metadata": {
        "id": "YfzhwTje0J4k",
        "outputId": "7f115d84-bc36-4d70-b098-b3d04db91da4"
      },
      "outputs": [
        {
          "name": "stdout",
          "output_type": "stream",
          "text": [
            "Best Parameters: {'max_depth': 10, 'min_samples_leaf': 4, 'min_samples_split': 2, 'n_estimators': 50}\n",
            "Best Score: 0.9049586776859504\n"
          ]
        }
      ],
      "source": [
        "rf_3 = RandomForestClassifier()\n",
        "\n",
        "# Define the hyperparameter grid for tuning\n",
        "param_grid = {\n",
        "    'n_estimators': [10, 20, 50],\n",
        "    'max_depth': [None, 5, 10, 12],\n",
        "    'min_samples_split': [2, 5, 10],\n",
        "    'min_samples_leaf': [1, 2, 4]\n",
        "}\n",
        "\n",
        "selected_val_k = 10\n",
        "# Create a K-fold cross-validation object\n",
        "kfold = KFold(n_splits = selected_val_k, shuffle = True, random_state = 42)\n",
        "\n",
        "# Perform grid search with cross-validation\n",
        "grid_search = GridSearchCV(rf_3, param_grid, cv=kfold)\n",
        "grid_search.fit(X, y)\n",
        "\n",
        "# Print the best parameters and best score\n",
        "print(\"Best Parameters:\", grid_search.best_params_)\n",
        "print(\"Best Score:\", grid_search.best_score_)"
      ]
    },
    {
      "cell_type": "code",
      "execution_count": null,
      "metadata": {
        "id": "1L7p3Gnt0J4k",
        "outputId": "dbb375ed-fbac-4a9b-e7fb-b16bdad19009"
      },
      "outputs": [
        {
          "data": {
            "text/html": [
              "<style>#sk-container-id-6 {color: black;background-color: white;}#sk-container-id-6 pre{padding: 0;}#sk-container-id-6 div.sk-toggleable {background-color: white;}#sk-container-id-6 label.sk-toggleable__label {cursor: pointer;display: block;width: 100%;margin-bottom: 0;padding: 0.3em;box-sizing: border-box;text-align: center;}#sk-container-id-6 label.sk-toggleable__label-arrow:before {content: \"▸\";float: left;margin-right: 0.25em;color: #696969;}#sk-container-id-6 label.sk-toggleable__label-arrow:hover:before {color: black;}#sk-container-id-6 div.sk-estimator:hover label.sk-toggleable__label-arrow:before {color: black;}#sk-container-id-6 div.sk-toggleable__content {max-height: 0;max-width: 0;overflow: hidden;text-align: left;background-color: #f0f8ff;}#sk-container-id-6 div.sk-toggleable__content pre {margin: 0.2em;color: black;border-radius: 0.25em;background-color: #f0f8ff;}#sk-container-id-6 input.sk-toggleable__control:checked~div.sk-toggleable__content {max-height: 200px;max-width: 100%;overflow: auto;}#sk-container-id-6 input.sk-toggleable__control:checked~label.sk-toggleable__label-arrow:before {content: \"▾\";}#sk-container-id-6 div.sk-estimator input.sk-toggleable__control:checked~label.sk-toggleable__label {background-color: #d4ebff;}#sk-container-id-6 div.sk-label input.sk-toggleable__control:checked~label.sk-toggleable__label {background-color: #d4ebff;}#sk-container-id-6 input.sk-hidden--visually {border: 0;clip: rect(1px 1px 1px 1px);clip: rect(1px, 1px, 1px, 1px);height: 1px;margin: -1px;overflow: hidden;padding: 0;position: absolute;width: 1px;}#sk-container-id-6 div.sk-estimator {font-family: monospace;background-color: #f0f8ff;border: 1px dotted black;border-radius: 0.25em;box-sizing: border-box;margin-bottom: 0.5em;}#sk-container-id-6 div.sk-estimator:hover {background-color: #d4ebff;}#sk-container-id-6 div.sk-parallel-item::after {content: \"\";width: 100%;border-bottom: 1px solid gray;flex-grow: 1;}#sk-container-id-6 div.sk-label:hover label.sk-toggleable__label {background-color: #d4ebff;}#sk-container-id-6 div.sk-serial::before {content: \"\";position: absolute;border-left: 1px solid gray;box-sizing: border-box;top: 0;bottom: 0;left: 50%;z-index: 0;}#sk-container-id-6 div.sk-serial {display: flex;flex-direction: column;align-items: center;background-color: white;padding-right: 0.2em;padding-left: 0.2em;position: relative;}#sk-container-id-6 div.sk-item {position: relative;z-index: 1;}#sk-container-id-6 div.sk-parallel {display: flex;align-items: stretch;justify-content: center;background-color: white;position: relative;}#sk-container-id-6 div.sk-item::before, #sk-container-id-6 div.sk-parallel-item::before {content: \"\";position: absolute;border-left: 1px solid gray;box-sizing: border-box;top: 0;bottom: 0;left: 50%;z-index: -1;}#sk-container-id-6 div.sk-parallel-item {display: flex;flex-direction: column;z-index: 1;position: relative;background-color: white;}#sk-container-id-6 div.sk-parallel-item:first-child::after {align-self: flex-end;width: 50%;}#sk-container-id-6 div.sk-parallel-item:last-child::after {align-self: flex-start;width: 50%;}#sk-container-id-6 div.sk-parallel-item:only-child::after {width: 0;}#sk-container-id-6 div.sk-dashed-wrapped {border: 1px dashed gray;margin: 0 0.4em 0.5em 0.4em;box-sizing: border-box;padding-bottom: 0.4em;background-color: white;}#sk-container-id-6 div.sk-label label {font-family: monospace;font-weight: bold;display: inline-block;line-height: 1.2em;}#sk-container-id-6 div.sk-label-container {text-align: center;}#sk-container-id-6 div.sk-container {/* jupyter's `normalize.less` sets `[hidden] { display: none; }` but bootstrap.min.css set `[hidden] { display: none !important; }` so we also need the `!important` here to be able to override the default hidden behavior on the sphinx rendered scikit-learn.org. See: https://github.com/scikit-learn/scikit-learn/issues/21755 */display: inline-block !important;position: relative;}#sk-container-id-6 div.sk-text-repr-fallback {display: none;}</style><div id=\"sk-container-id-6\" class=\"sk-top-container\"><div class=\"sk-text-repr-fallback\"><pre>GridSearchCV(cv=KFold(n_splits=10, random_state=42, shuffle=True),\n",
              "             estimator=RandomForestClassifier(),\n",
              "             param_grid={&#x27;max_depth&#x27;: [None, 5, 10, 12],\n",
              "                         &#x27;min_samples_leaf&#x27;: [1, 2, 4],\n",
              "                         &#x27;min_samples_split&#x27;: [2, 5, 10],\n",
              "                         &#x27;n_estimators&#x27;: [10, 20, 50]})</pre><b>In a Jupyter environment, please rerun this cell to show the HTML representation or trust the notebook. <br />On GitHub, the HTML representation is unable to render, please try loading this page with nbviewer.org.</b></div><div class=\"sk-container\" hidden><div class=\"sk-item sk-dashed-wrapped\"><div class=\"sk-label-container\"><div class=\"sk-label sk-toggleable\"><input class=\"sk-toggleable__control sk-hidden--visually\" id=\"sk-estimator-id-8\" type=\"checkbox\" ><label for=\"sk-estimator-id-8\" class=\"sk-toggleable__label sk-toggleable__label-arrow\">GridSearchCV</label><div class=\"sk-toggleable__content\"><pre>GridSearchCV(cv=KFold(n_splits=10, random_state=42, shuffle=True),\n",
              "             estimator=RandomForestClassifier(),\n",
              "             param_grid={&#x27;max_depth&#x27;: [None, 5, 10, 12],\n",
              "                         &#x27;min_samples_leaf&#x27;: [1, 2, 4],\n",
              "                         &#x27;min_samples_split&#x27;: [2, 5, 10],\n",
              "                         &#x27;n_estimators&#x27;: [10, 20, 50]})</pre></div></div></div><div class=\"sk-parallel\"><div class=\"sk-parallel-item\"><div class=\"sk-item\"><div class=\"sk-label-container\"><div class=\"sk-label sk-toggleable\"><input class=\"sk-toggleable__control sk-hidden--visually\" id=\"sk-estimator-id-9\" type=\"checkbox\" ><label for=\"sk-estimator-id-9\" class=\"sk-toggleable__label sk-toggleable__label-arrow\">estimator: RandomForestClassifier</label><div class=\"sk-toggleable__content\"><pre>RandomForestClassifier()</pre></div></div></div><div class=\"sk-serial\"><div class=\"sk-item\"><div class=\"sk-estimator sk-toggleable\"><input class=\"sk-toggleable__control sk-hidden--visually\" id=\"sk-estimator-id-10\" type=\"checkbox\" ><label for=\"sk-estimator-id-10\" class=\"sk-toggleable__label sk-toggleable__label-arrow\">RandomForestClassifier</label><div class=\"sk-toggleable__content\"><pre>RandomForestClassifier()</pre></div></div></div></div></div></div></div></div></div></div>"
            ],
            "text/plain": [
              "GridSearchCV(cv=KFold(n_splits=10, random_state=42, shuffle=True),\n",
              "             estimator=RandomForestClassifier(),\n",
              "             param_grid={'max_depth': [None, 5, 10, 12],\n",
              "                         'min_samples_leaf': [1, 2, 4],\n",
              "                         'min_samples_split': [2, 5, 10],\n",
              "                         'n_estimators': [10, 20, 50]})"
            ]
          },
          "execution_count": 162,
          "metadata": {},
          "output_type": "execute_result"
        }
      ],
      "source": [
        "grid_search"
      ]
    },
    {
      "cell_type": "code",
      "execution_count": null,
      "metadata": {
        "id": "dbPSUnqF0J4l"
      },
      "outputs": [],
      "source": []
    },
    {
      "cell_type": "markdown",
      "metadata": {
        "id": "cpOU1V3n0J4l"
      },
      "source": [
        "### Retraining the Model using Random Forest Algorithm with best parameter settings - On Train set"
      ]
    },
    {
      "cell_type": "code",
      "execution_count": null,
      "metadata": {
        "id": "5uVPsFMQ0J4l",
        "outputId": "506991d9-05f9-4da0-bc07-13183a86576e"
      },
      "outputs": [
        {
          "data": {
            "text/html": [
              "<style>#sk-container-id-3 {color: black;background-color: white;}#sk-container-id-3 pre{padding: 0;}#sk-container-id-3 div.sk-toggleable {background-color: white;}#sk-container-id-3 label.sk-toggleable__label {cursor: pointer;display: block;width: 100%;margin-bottom: 0;padding: 0.3em;box-sizing: border-box;text-align: center;}#sk-container-id-3 label.sk-toggleable__label-arrow:before {content: \"▸\";float: left;margin-right: 0.25em;color: #696969;}#sk-container-id-3 label.sk-toggleable__label-arrow:hover:before {color: black;}#sk-container-id-3 div.sk-estimator:hover label.sk-toggleable__label-arrow:before {color: black;}#sk-container-id-3 div.sk-toggleable__content {max-height: 0;max-width: 0;overflow: hidden;text-align: left;background-color: #f0f8ff;}#sk-container-id-3 div.sk-toggleable__content pre {margin: 0.2em;color: black;border-radius: 0.25em;background-color: #f0f8ff;}#sk-container-id-3 input.sk-toggleable__control:checked~div.sk-toggleable__content {max-height: 200px;max-width: 100%;overflow: auto;}#sk-container-id-3 input.sk-toggleable__control:checked~label.sk-toggleable__label-arrow:before {content: \"▾\";}#sk-container-id-3 div.sk-estimator input.sk-toggleable__control:checked~label.sk-toggleable__label {background-color: #d4ebff;}#sk-container-id-3 div.sk-label input.sk-toggleable__control:checked~label.sk-toggleable__label {background-color: #d4ebff;}#sk-container-id-3 input.sk-hidden--visually {border: 0;clip: rect(1px 1px 1px 1px);clip: rect(1px, 1px, 1px, 1px);height: 1px;margin: -1px;overflow: hidden;padding: 0;position: absolute;width: 1px;}#sk-container-id-3 div.sk-estimator {font-family: monospace;background-color: #f0f8ff;border: 1px dotted black;border-radius: 0.25em;box-sizing: border-box;margin-bottom: 0.5em;}#sk-container-id-3 div.sk-estimator:hover {background-color: #d4ebff;}#sk-container-id-3 div.sk-parallel-item::after {content: \"\";width: 100%;border-bottom: 1px solid gray;flex-grow: 1;}#sk-container-id-3 div.sk-label:hover label.sk-toggleable__label {background-color: #d4ebff;}#sk-container-id-3 div.sk-serial::before {content: \"\";position: absolute;border-left: 1px solid gray;box-sizing: border-box;top: 0;bottom: 0;left: 50%;z-index: 0;}#sk-container-id-3 div.sk-serial {display: flex;flex-direction: column;align-items: center;background-color: white;padding-right: 0.2em;padding-left: 0.2em;position: relative;}#sk-container-id-3 div.sk-item {position: relative;z-index: 1;}#sk-container-id-3 div.sk-parallel {display: flex;align-items: stretch;justify-content: center;background-color: white;position: relative;}#sk-container-id-3 div.sk-item::before, #sk-container-id-3 div.sk-parallel-item::before {content: \"\";position: absolute;border-left: 1px solid gray;box-sizing: border-box;top: 0;bottom: 0;left: 50%;z-index: -1;}#sk-container-id-3 div.sk-parallel-item {display: flex;flex-direction: column;z-index: 1;position: relative;background-color: white;}#sk-container-id-3 div.sk-parallel-item:first-child::after {align-self: flex-end;width: 50%;}#sk-container-id-3 div.sk-parallel-item:last-child::after {align-self: flex-start;width: 50%;}#sk-container-id-3 div.sk-parallel-item:only-child::after {width: 0;}#sk-container-id-3 div.sk-dashed-wrapped {border: 1px dashed gray;margin: 0 0.4em 0.5em 0.4em;box-sizing: border-box;padding-bottom: 0.4em;background-color: white;}#sk-container-id-3 div.sk-label label {font-family: monospace;font-weight: bold;display: inline-block;line-height: 1.2em;}#sk-container-id-3 div.sk-label-container {text-align: center;}#sk-container-id-3 div.sk-container {/* jupyter's `normalize.less` sets `[hidden] { display: none; }` but bootstrap.min.css set `[hidden] { display: none !important; }` so we also need the `!important` here to be able to override the default hidden behavior on the sphinx rendered scikit-learn.org. See: https://github.com/scikit-learn/scikit-learn/issues/21755 */display: inline-block !important;position: relative;}#sk-container-id-3 div.sk-text-repr-fallback {display: none;}</style><div id=\"sk-container-id-3\" class=\"sk-top-container\"><div class=\"sk-text-repr-fallback\"><pre>RandomForestClassifier(max_depth=10, min_samples_leaf=4, n_estimators=50)</pre><b>In a Jupyter environment, please rerun this cell to show the HTML representation or trust the notebook. <br />On GitHub, the HTML representation is unable to render, please try loading this page with nbviewer.org.</b></div><div class=\"sk-container\" hidden><div class=\"sk-item\"><div class=\"sk-estimator sk-toggleable\"><input class=\"sk-toggleable__control sk-hidden--visually\" id=\"sk-estimator-id-3\" type=\"checkbox\" checked><label for=\"sk-estimator-id-3\" class=\"sk-toggleable__label sk-toggleable__label-arrow\">RandomForestClassifier</label><div class=\"sk-toggleable__content\"><pre>RandomForestClassifier(max_depth=10, min_samples_leaf=4, n_estimators=50)</pre></div></div></div></div></div>"
            ],
            "text/plain": [
              "RandomForestClassifier(max_depth=10, min_samples_leaf=4, n_estimators=50)"
            ]
          },
          "execution_count": 88,
          "metadata": {},
          "output_type": "execute_result"
        }
      ],
      "source": [
        "rf_eval = RandomForestClassifier(max_depth=10,\n",
        "                                  min_samples_leaf = 4,\n",
        "                                  min_samples_split = 2,\n",
        "                                  n_estimators = 50)\n",
        "\n",
        "rf_eval.fit(X_train, y_train)\n"
      ]
    },
    {
      "cell_type": "markdown",
      "metadata": {
        "id": "U04IKLQi0J4l"
      },
      "source": [
        "### Evaluating the Model performance on the Test dataset"
      ]
    },
    {
      "cell_type": "code",
      "execution_count": null,
      "metadata": {
        "id": "LTFNnV_30J4l",
        "outputId": "509652ab-2f40-4177-f2b1-59f03e1efcb1"
      },
      "outputs": [
        {
          "name": "stdout",
          "output_type": "stream",
          "text": [
            "Model Performance on Training set: 93.25%\n",
            "Model Performance on Test set: 90.91%\n"
          ]
        }
      ],
      "source": [
        "train_score = accuracy_score(y_train, rf_eval.predict(X_train))\n",
        "test_score = accuracy_score(y_test, rf_eval.predict(X_test))\n",
        "\n",
        "print(f\"Model Performance on Training set: {round(train_score * 100, 2)}%\")\n",
        "print(f\"Model Performance on Test set: {round(test_score * 100, 2)}%\")\n",
        "\n"
      ]
    },
    {
      "cell_type": "markdown",
      "metadata": {
        "id": "TjL01Yn50J4l"
      },
      "source": [
        "#### Re-training the model to include the entire dataset"
      ]
    },
    {
      "cell_type": "code",
      "execution_count": null,
      "metadata": {
        "id": "1uueZuos0J4l",
        "outputId": "babee1de-c75e-49b6-dede-1d82e3828b35"
      },
      "outputs": [
        {
          "name": "stdout",
          "output_type": "stream",
          "text": [
            "Overall model accuracy: 92.95 %\n"
          ]
        }
      ],
      "source": [
        "rf_final = RandomForestClassifier(max_depth=10,\n",
        "                                  min_samples_leaf = 4,\n",
        "                                  min_samples_split = 2,\n",
        "                                  n_estimators = 50)\n",
        "\n",
        "overall_model_accuracy = accuracy_score(y, rf_final.predict(X))\n",
        "print(f\"Overall model accuracy: {round(overall_model_accuracy * 100, 2)} %\", )"
      ]
    },
    {
      "cell_type": "code",
      "execution_count": null,
      "metadata": {
        "id": "gXJes9bx0J4l"
      },
      "outputs": [],
      "source": []
    },
    {
      "cell_type": "markdown",
      "metadata": {
        "id": "V9FH4QAf0J4l"
      },
      "source": [
        "#### Using the above Model we can assess which input features helped Predicting the target feature"
      ]
    },
    {
      "cell_type": "code",
      "execution_count": null,
      "metadata": {
        "id": "F1_ABIa90J4l",
        "outputId": "09fd8ce6-1dfc-499e-c08a-2227fca94755"
      },
      "outputs": [
        {
          "data": {
            "text/plain": [
              "(59,)"
            ]
          },
          "execution_count": 181,
          "metadata": {},
          "output_type": "execute_result"
        }
      ],
      "source": []
    },
    {
      "cell_type": "code",
      "execution_count": null,
      "metadata": {
        "id": "TXWb76JN0J4l"
      },
      "outputs": [],
      "source": [
        "fi_df = pd.DataFrame({'feature_names': list(X.columns),\n",
        "                      'feature_importance': rf_final.feature_importances_})\n",
        "\n",
        "fi_df.sort_values(by = 'feature_importance', ascending=False, inplace=True)"
      ]
    },
    {
      "cell_type": "code",
      "execution_count": null,
      "metadata": {
        "id": "adEsOJt00J4l",
        "outputId": "b02632c3-c5a5-4c78-84d0-ed0698ef867d"
      },
      "outputs": [
        {
          "data": {
            "text/html": [
              "<div>\n",
              "<style scoped>\n",
              "    .dataframe tbody tr th:only-of-type {\n",
              "        vertical-align: middle;\n",
              "    }\n",
              "\n",
              "    .dataframe tbody tr th {\n",
              "        vertical-align: top;\n",
              "    }\n",
              "\n",
              "    .dataframe thead th {\n",
              "        text-align: right;\n",
              "    }\n",
              "</style>\n",
              "<table border=\"1\" class=\"dataframe\">\n",
              "  <thead>\n",
              "    <tr style=\"text-align: right;\">\n",
              "      <th></th>\n",
              "      <th>feature_names</th>\n",
              "      <th>feature_importance</th>\n",
              "    </tr>\n",
              "  </thead>\n",
              "  <tbody>\n",
              "    <tr>\n",
              "      <th>19</th>\n",
              "      <td>2nd_sem_appv</td>\n",
              "      <td>0.265813</td>\n",
              "    </tr>\n",
              "    <tr>\n",
              "      <th>20</th>\n",
              "      <td>2nd_sem_grade</td>\n",
              "      <td>0.165835</td>\n",
              "    </tr>\n",
              "    <tr>\n",
              "      <th>13</th>\n",
              "      <td>1st_sem_appv</td>\n",
              "      <td>0.139992</td>\n",
              "    </tr>\n",
              "    <tr>\n",
              "      <th>14</th>\n",
              "      <td>1st_sem_grade</td>\n",
              "      <td>0.104959</td>\n",
              "    </tr>\n",
              "    <tr>\n",
              "      <th>7</th>\n",
              "      <td>tuition_fee_upto_date</td>\n",
              "      <td>0.074857</td>\n",
              "    </tr>\n",
              "    <tr>\n",
              "      <th>18</th>\n",
              "      <td>2nd_sem_eval</td>\n",
              "      <td>0.037832</td>\n",
              "    </tr>\n",
              "    <tr>\n",
              "      <th>11</th>\n",
              "      <td>1st_sem_enrl</td>\n",
              "      <td>0.028032</td>\n",
              "    </tr>\n",
              "    <tr>\n",
              "      <th>12</th>\n",
              "      <td>1st_sem_eval</td>\n",
              "      <td>0.024521</td>\n",
              "    </tr>\n",
              "    <tr>\n",
              "      <th>6</th>\n",
              "      <td>debtor</td>\n",
              "      <td>0.022068</td>\n",
              "    </tr>\n",
              "    <tr>\n",
              "      <th>9</th>\n",
              "      <td>scholarship_holder</td>\n",
              "      <td>0.021238</td>\n",
              "    </tr>\n",
              "    <tr>\n",
              "      <th>17</th>\n",
              "      <td>2nd_sem_enrl</td>\n",
              "      <td>0.020148</td>\n",
              "    </tr>\n",
              "    <tr>\n",
              "      <th>8</th>\n",
              "      <td>gender</td>\n",
              "      <td>0.012136</td>\n",
              "    </tr>\n",
              "    <tr>\n",
              "      <th>24</th>\n",
              "      <td>gdp</td>\n",
              "      <td>0.008602</td>\n",
              "    </tr>\n",
              "    <tr>\n",
              "      <th>22</th>\n",
              "      <td>unemployment_rate</td>\n",
              "      <td>0.008334</td>\n",
              "    </tr>\n",
              "    <tr>\n",
              "      <th>23</th>\n",
              "      <td>inflation_rate</td>\n",
              "      <td>0.007768</td>\n",
              "    </tr>\n",
              "    <tr>\n",
              "      <th>16</th>\n",
              "      <td>2nd_sem_crd</td>\n",
              "      <td>0.005130</td>\n",
              "    </tr>\n",
              "    <tr>\n",
              "      <th>10</th>\n",
              "      <td>1st_sem_crd</td>\n",
              "      <td>0.004169</td>\n",
              "    </tr>\n",
              "    <tr>\n",
              "      <th>4</th>\n",
              "      <td>displaced</td>\n",
              "      <td>0.003360</td>\n",
              "    </tr>\n",
              "    <tr>\n",
              "      <th>42</th>\n",
              "      <td>m_occ_category 1</td>\n",
              "      <td>0.002699</td>\n",
              "    </tr>\n",
              "    <tr>\n",
              "      <th>35</th>\n",
              "      <td>f_qual_HS Completed</td>\n",
              "      <td>0.002685</td>\n",
              "    </tr>\n",
              "    <tr>\n",
              "      <th>21</th>\n",
              "      <td>2nd_sem_w_eval</td>\n",
              "      <td>0.002612</td>\n",
              "    </tr>\n",
              "    <tr>\n",
              "      <th>47</th>\n",
              "      <td>f_occ_category 1</td>\n",
              "      <td>0.002521</td>\n",
              "    </tr>\n",
              "    <tr>\n",
              "      <th>29</th>\n",
              "      <td>m_qual_HS Completed</td>\n",
              "      <td>0.002496</td>\n",
              "    </tr>\n",
              "    <tr>\n",
              "      <th>27</th>\n",
              "      <td>previous_qualifications_Schooling Complete</td>\n",
              "      <td>0.002364</td>\n",
              "    </tr>\n",
              "    <tr>\n",
              "      <th>15</th>\n",
              "      <td>1st_sem_w_eval</td>\n",
              "      <td>0.002339</td>\n",
              "    </tr>\n",
              "    <tr>\n",
              "      <th>48</th>\n",
              "      <td>f_occ_category 2</td>\n",
              "      <td>0.002225</td>\n",
              "    </tr>\n",
              "    <tr>\n",
              "      <th>34</th>\n",
              "      <td>m_qual_Technical Education Degree</td>\n",
              "      <td>0.002078</td>\n",
              "    </tr>\n",
              "    <tr>\n",
              "      <th>44</th>\n",
              "      <td>m_occ_category 3</td>\n",
              "      <td>0.002052</td>\n",
              "    </tr>\n",
              "    <tr>\n",
              "      <th>39</th>\n",
              "      <td>f_qual_Schooling Complete</td>\n",
              "      <td>0.001756</td>\n",
              "    </tr>\n",
              "    <tr>\n",
              "      <th>25</th>\n",
              "      <td>previous_qualifications_Higher Studies</td>\n",
              "      <td>0.001677</td>\n",
              "    </tr>\n",
              "    <tr>\n",
              "      <th>33</th>\n",
              "      <td>m_qual_Schooling Complete</td>\n",
              "      <td>0.001621</td>\n",
              "    </tr>\n",
              "    <tr>\n",
              "      <th>49</th>\n",
              "      <td>f_occ_category 3</td>\n",
              "      <td>0.001474</td>\n",
              "    </tr>\n",
              "    <tr>\n",
              "      <th>28</th>\n",
              "      <td>previous_qualifications_Schooling Incomplete</td>\n",
              "      <td>0.001446</td>\n",
              "    </tr>\n",
              "    <tr>\n",
              "      <th>37</th>\n",
              "      <td>f_qual_Higher Education</td>\n",
              "      <td>0.001434</td>\n",
              "    </tr>\n",
              "    <tr>\n",
              "      <th>43</th>\n",
              "      <td>m_occ_category 2</td>\n",
              "      <td>0.001379</td>\n",
              "    </tr>\n",
              "    <tr>\n",
              "      <th>2</th>\n",
              "      <td>marital_status_single</td>\n",
              "      <td>0.001347</td>\n",
              "    </tr>\n",
              "    <tr>\n",
              "      <th>3</th>\n",
              "      <td>daytime_evening_attnd</td>\n",
              "      <td>0.001338</td>\n",
              "    </tr>\n",
              "    <tr>\n",
              "      <th>31</th>\n",
              "      <td>m_qual_Higher Education</td>\n",
              "      <td>0.001019</td>\n",
              "    </tr>\n",
              "    <tr>\n",
              "      <th>38</th>\n",
              "      <td>f_qual_Others</td>\n",
              "      <td>0.000981</td>\n",
              "    </tr>\n",
              "    <tr>\n",
              "      <th>0</th>\n",
              "      <td>marital_status_married</td>\n",
              "      <td>0.000925</td>\n",
              "    </tr>\n",
              "    <tr>\n",
              "      <th>51</th>\n",
              "      <td>application_order_Priority 1</td>\n",
              "      <td>0.000923</td>\n",
              "    </tr>\n",
              "    <tr>\n",
              "      <th>41</th>\n",
              "      <td>m_occ_Others</td>\n",
              "      <td>0.000789</td>\n",
              "    </tr>\n",
              "    <tr>\n",
              "      <th>52</th>\n",
              "      <td>application_order_Priority 2</td>\n",
              "      <td>0.000773</td>\n",
              "    </tr>\n",
              "    <tr>\n",
              "      <th>46</th>\n",
              "      <td>f_occ_Others</td>\n",
              "      <td>0.000756</td>\n",
              "    </tr>\n",
              "    <tr>\n",
              "      <th>50</th>\n",
              "      <td>f_occ_category 4</td>\n",
              "      <td>0.000582</td>\n",
              "    </tr>\n",
              "    <tr>\n",
              "      <th>32</th>\n",
              "      <td>m_qual_Others</td>\n",
              "      <td>0.000290</td>\n",
              "    </tr>\n",
              "    <tr>\n",
              "      <th>36</th>\n",
              "      <td>f_qual_HS dropout or Below</td>\n",
              "      <td>0.000213</td>\n",
              "    </tr>\n",
              "    <tr>\n",
              "      <th>45</th>\n",
              "      <td>m_occ_category 4</td>\n",
              "      <td>0.000206</td>\n",
              "    </tr>\n",
              "    <tr>\n",
              "      <th>1</th>\n",
              "      <td>marital_status_others</td>\n",
              "      <td>0.000163</td>\n",
              "    </tr>\n",
              "    <tr>\n",
              "      <th>30</th>\n",
              "      <td>m_qual_HS dropout or Below</td>\n",
              "      <td>0.000020</td>\n",
              "    </tr>\n",
              "    <tr>\n",
              "      <th>26</th>\n",
              "      <td>previous_qualifications_Others</td>\n",
              "      <td>0.000012</td>\n",
              "    </tr>\n",
              "    <tr>\n",
              "      <th>5</th>\n",
              "      <td>special_needs</td>\n",
              "      <td>0.000011</td>\n",
              "    </tr>\n",
              "    <tr>\n",
              "      <th>40</th>\n",
              "      <td>f_qual_Technical Education Degree</td>\n",
              "      <td>0.000000</td>\n",
              "    </tr>\n",
              "  </tbody>\n",
              "</table>\n",
              "</div>"
            ],
            "text/plain": [
              "                                   feature_names  feature_importance\n",
              "19                                  2nd_sem_appv            0.265813\n",
              "20                                 2nd_sem_grade            0.165835\n",
              "13                                  1st_sem_appv            0.139992\n",
              "14                                 1st_sem_grade            0.104959\n",
              "7                          tuition_fee_upto_date            0.074857\n",
              "18                                  2nd_sem_eval            0.037832\n",
              "11                                  1st_sem_enrl            0.028032\n",
              "12                                  1st_sem_eval            0.024521\n",
              "6                                         debtor            0.022068\n",
              "9                             scholarship_holder            0.021238\n",
              "17                                  2nd_sem_enrl            0.020148\n",
              "8                                         gender            0.012136\n",
              "24                                           gdp            0.008602\n",
              "22                             unemployment_rate            0.008334\n",
              "23                                inflation_rate            0.007768\n",
              "16                                   2nd_sem_crd            0.005130\n",
              "10                                   1st_sem_crd            0.004169\n",
              "4                                      displaced            0.003360\n",
              "42                              m_occ_category 1            0.002699\n",
              "35                           f_qual_HS Completed            0.002685\n",
              "21                                2nd_sem_w_eval            0.002612\n",
              "47                              f_occ_category 1            0.002521\n",
              "29                           m_qual_HS Completed            0.002496\n",
              "27    previous_qualifications_Schooling Complete            0.002364\n",
              "15                                1st_sem_w_eval            0.002339\n",
              "48                              f_occ_category 2            0.002225\n",
              "34             m_qual_Technical Education Degree            0.002078\n",
              "44                              m_occ_category 3            0.002052\n",
              "39                     f_qual_Schooling Complete            0.001756\n",
              "25        previous_qualifications_Higher Studies            0.001677\n",
              "33                     m_qual_Schooling Complete            0.001621\n",
              "49                              f_occ_category 3            0.001474\n",
              "28  previous_qualifications_Schooling Incomplete            0.001446\n",
              "37                       f_qual_Higher Education            0.001434\n",
              "43                              m_occ_category 2            0.001379\n",
              "2                          marital_status_single            0.001347\n",
              "3                          daytime_evening_attnd            0.001338\n",
              "31                       m_qual_Higher Education            0.001019\n",
              "38                                 f_qual_Others            0.000981\n",
              "0                         marital_status_married            0.000925\n",
              "51                  application_order_Priority 1            0.000923\n",
              "41                                  m_occ_Others            0.000789\n",
              "52                  application_order_Priority 2            0.000773\n",
              "46                                  f_occ_Others            0.000756\n",
              "50                              f_occ_category 4            0.000582\n",
              "32                                 m_qual_Others            0.000290\n",
              "36                    f_qual_HS dropout or Below            0.000213\n",
              "45                              m_occ_category 4            0.000206\n",
              "1                          marital_status_others            0.000163\n",
              "30                    m_qual_HS dropout or Below            0.000020\n",
              "26                previous_qualifications_Others            0.000012\n",
              "5                                  special_needs            0.000011\n",
              "40             f_qual_Technical Education Degree            0.000000"
            ]
          },
          "execution_count": 92,
          "metadata": {},
          "output_type": "execute_result"
        }
      ],
      "source": [
        "fi_df"
      ]
    },
    {
      "cell_type": "markdown",
      "metadata": {
        "id": "d1qmg3B20J4m"
      },
      "source": [
        "#### Creating the Barplot to generate feature importance"
      ]
    },
    {
      "cell_type": "code",
      "execution_count": null,
      "metadata": {
        "id": "3QD3Cvdf0J4m",
        "outputId": "39530709-125d-43d5-f458-17dd93f0316d"
      },
      "outputs": [
        {
          "data": {
            "image/png": "[encoded data removed]",
            "text/plain": [
              "<Figure size 2000x2000 with 1 Axes>"
            ]
          },
          "metadata": {},
          "output_type": "display_data"
        }
      ],
      "source": [
        "\n",
        "plt.figure(figsize=(20, 20))\n",
        "# Create the horizontal plot using Seaborn\n",
        "sns.barplot(x='feature_importance', y='feature_names', data=fi_df, orient='h')\n",
        "\n",
        "# Display the plot\n",
        "plt.title(\"Feature Importance score of Input features\")\n",
        "plt.show()"
      ]
    },
    {
      "cell_type": "markdown",
      "source": [
        "# Conclusion: The horizontal bar plot shows how different features of the dataset relate with the target."
      ],
      "metadata": {
        "id": "e8FIwSds5e15"
      }
    },
    {
      "cell_type": "markdown",
      "metadata": {
        "id": "Zg7r0UmH0J4m"
      },
      "source": [
        "### Writing the models and the files to disk"
      ]
    },
    {
      "cell_type": "code",
      "execution_count": null,
      "metadata": {
        "id": "Uq5MT5Xk0J4m"
      },
      "outputs": [],
      "source": [
        "fi_df.to_csv('./feature_importance.csv', index = False)"
      ]
    },
    {
      "cell_type": "markdown",
      "metadata": {
        "id": "v81VjJ8-0J4m"
      },
      "source": [
        "#### Writing datasets to file"
      ]
    },
    {
      "cell_type": "code",
      "execution_count": null,
      "metadata": {
        "id": "JZiBTe6i0J4m"
      },
      "outputs": [],
      "source": [
        "X_train.to_csv('./xtrain.csv', index = False)\n",
        "X_test.to_csv('./xtest.csv', index = False)\n",
        "y_train.to_csv('./ytrain.csv', index = False)\n",
        "y_test.to_csv('./ytest.csv', index = False)"
      ]
    },
    {
      "cell_type": "code",
      "execution_count": null,
      "metadata": {
        "id": "loKuFbYM0J4m"
      },
      "outputs": [],
      "source": []
    },
    {
      "cell_type": "markdown",
      "metadata": {
        "id": "qFMFduqb0J4m"
      },
      "source": [
        "#### Writing model file to disk"
      ]
    },
    {
      "cell_type": "code",
      "execution_count": null,
      "metadata": {
        "id": "c_xNMBkG0J4m",
        "outputId": "acbb83c0-3946-42f5-dd0c-f930412d8453"
      },
      "outputs": [
        {
          "name": "stdout",
          "output_type": "stream",
          "text": [
            "Model file written to disk\n"
          ]
        }
      ],
      "source": [
        "import pickle\n",
        "\n",
        "# Save the trained model to disk\n",
        "filename = 'rf_model.pkl'\n",
        "with open(filename, 'wb') as file:\n",
        "    pickle.dump(rf_final, file)\n",
        "\n",
        "print(\"Model file written to disk\")"
      ]
    },
    {
      "cell_type": "code",
      "execution_count": null,
      "metadata": {
        "id": "7h0eKlqd0J4m"
      },
      "outputs": [],
      "source": []
    },
    {
      "cell_type": "code",
      "execution_count": null,
      "metadata": {
        "id": "62VgBea_0J4m"
      },
      "outputs": [],
      "source": []
    }
  ],
  "metadata": {
    "colab": {
      "provenance": []
    },
    "kernelspec": {
      "display_name": "Python 3",
      "name": "python3"
    },
    "language_info": {
      "codemirror_mode": {
        "name": "ipython",
        "version": 3
      },
      "file_extension": ".py",
      "mimetype": "text/x-python",
      "name": "python",
      "nbconvert_exporter": "python",
      "pygments_lexer": "ipython3",
      "version": "3.10.11"
    }
  },
  "nbformat": 4,
  "nbformat_minor": 0
}